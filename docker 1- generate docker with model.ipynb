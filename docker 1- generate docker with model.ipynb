{
 "cells": [
  {
   "cell_type": "code",
   "execution_count": 1,
   "id": "respected-institution",
   "metadata": {},
   "outputs": [],
   "source": [
    "from optbinning import OptimalBinning\n",
    "\n",
    "from os import listdir\n",
    "from os.path import isfile, join\n",
    "from datetime import datetime, timedelta\n",
    "import time\n",
    "import sys\n",
    "\n",
    "import pandas as pd\n",
    "import numpy as np\n",
    "import random\n",
    "\n",
    "from scipy import stats\n",
    "from scipy.stats import chi2_contingency\n",
    "from scipy.stats import chi2\n",
    "\n",
    "from optbinning import OptimalBinning\n",
    "from catboost import CatBoostClassifier, Pool, cv\n",
    "\n",
    "import scikitplot as skplt\n",
    "import matplotlib.pyplot as plt\n",
    "from sklearn.metrics import roc_curve\n",
    "from sklearn.metrics import roc_auc_score\n",
    "\n",
    "from bayes_opt import BayesianOptimization\n",
    "import catboost\n",
    "import pickle\n",
    "import csv\n",
    "import scipy as sc"
   ]
  },
  {
   "cell_type": "markdown",
   "id": "coastal-middle",
   "metadata": {},
   "source": [
    "## Create a dataset"
   ]
  },
  {
   "cell_type": "code",
   "execution_count": 41,
   "id": "adverse-crowd",
   "metadata": {},
   "outputs": [],
   "source": [
    "def create_df(seed):\n",
    "    np.random.seed(seed)\n",
    "    x1=np.random.normal(0,1,1000)\n",
    "    x2=np.random.normal(0,1,1000)\n",
    "    x3=np.random.normal(0,1,1000)\n",
    "    x4=np.random.normal(0,1,1000)/5\n",
    "\n",
    "    z=1 + 2*x1 + x2 + 2*x2*x3 +x4\n",
    "    pr=1/(1+np.exp(-z))\n",
    "    y=sc.stats.binom.rvs(1, pr, size=1000)\n",
    "    y1= z+x4\n",
    "    df = pd.DataFrame(data={'y':y, 'y1': y1,'x1':x1, 'x2':x2, 'x3':x3, 'x4':x4})\n",
    "    return [df,z]"
   ]
  },
  {
   "cell_type": "code",
   "execution_count": 42,
   "id": "diverse-italy",
   "metadata": {},
   "outputs": [],
   "source": [
    "df = create_df(30)[0]"
   ]
  },
  {
   "cell_type": "code",
   "execution_count": 43,
   "id": "juvenile-configuration",
   "metadata": {},
   "outputs": [],
   "source": [
    "df['x5'] = 'B'\n",
    "df.loc[df.x1>0.1,'x5'] = 'B'\n",
    "df.loc[df.x1>0.4,'x5'] = 'C'\n",
    "df.loc[df.x1>0.6,'x5'] = 'D'"
   ]
  },
  {
   "cell_type": "code",
   "execution_count": 44,
   "id": "bibliographic-browser",
   "metadata": {},
   "outputs": [],
   "source": [
    "#data = df['data'].copy()\n",
    "#data.columns = df['feature_names'].copy()\n",
    "#df_view = pd.DataFrame(data, columns = list(df['feature_names']))\n",
    "#df_view['target'] = df['target'].copy()"
   ]
  },
  {
   "cell_type": "code",
   "execution_count": 45,
   "id": "figured-cornell",
   "metadata": {},
   "outputs": [],
   "source": [
    "df_view = df.copy()"
   ]
  },
  {
   "cell_type": "code",
   "execution_count": 46,
   "id": "loved-defendant",
   "metadata": {},
   "outputs": [
    {
     "data": {
      "text/plain": [
       "(1000, 7)"
      ]
     },
     "execution_count": 46,
     "metadata": {},
     "output_type": "execute_result"
    }
   ],
   "source": [
    "df_view.shape"
   ]
  },
  {
   "cell_type": "code",
   "execution_count": 47,
   "id": "favorite-egypt",
   "metadata": {},
   "outputs": [
    {
     "data": {
      "text/plain": [
       "float64    5\n",
       "object     1\n",
       "int64      1\n",
       "dtype: int64"
      ]
     },
     "execution_count": 47,
     "metadata": {},
     "output_type": "execute_result"
    }
   ],
   "source": [
    "df_types = df_view.dtypes\n",
    "df_types.value_counts()"
   ]
  },
  {
   "cell_type": "code",
   "execution_count": 48,
   "id": "timely-medicare",
   "metadata": {},
   "outputs": [
    {
     "data": {
      "text/plain": [
       "['x5']"
      ]
     },
     "execution_count": 48,
     "metadata": {},
     "output_type": "execute_result"
    }
   ],
   "source": [
    "categorical_cols = df_types[df_types=='object']\n",
    "categorical_cols = list(categorical_cols.index)\n",
    "categorical_cols = [x for x in categorical_cols if x!='uuid']\n",
    "categorical_cols"
   ]
  },
  {
   "cell_type": "code",
   "execution_count": 49,
   "id": "loaded-aside",
   "metadata": {},
   "outputs": [],
   "source": [
    "numerical_cols = df_types[df_types!='object']\n",
    "numerical_cols = list(numerical_cols.index)\n",
    "numerical_cols = [x for x in numerical_cols if x!='default']\n",
    "to_cat = [x for x in numerical_cols if 'status' in x] \n",
    "categorical_cols = categorical_cols + to_cat\n",
    "#numerical_cols = list(set(numerical_cols)-set(ordinal_cols))\n",
    "numerical_cols = list(set(numerical_cols)-set(categorical_cols))"
   ]
  },
  {
   "cell_type": "code",
   "execution_count": 50,
   "id": "material-samba",
   "metadata": {},
   "outputs": [
    {
     "data": {
      "text/plain": [
       "['x4', 'x3', 'x2', 'x1', 'y1']"
      ]
     },
     "execution_count": 50,
     "metadata": {},
     "output_type": "execute_result"
    }
   ],
   "source": [
    "#numerical_cols.pop('y')\n",
    "pos = numerical_cols.index(\"y\")\n",
    "numerical_cols.pop(pos)\n",
    "numerical_cols"
   ]
  },
  {
   "cell_type": "code",
   "execution_count": 51,
   "id": "ranging-italy",
   "metadata": {},
   "outputs": [
    {
     "data": {
      "text/plain": [
       "0    613\n",
       "2    199\n",
       "1    188\n",
       "Name: flag_train, dtype: int64"
      ]
     },
     "execution_count": 51,
     "metadata": {},
     "output_type": "execute_result"
    }
   ],
   "source": [
    "df_view= df_view[df_view.y.isnull()==False]\n",
    "random.seed(1)\n",
    "df_view['random'] = np.random.randint(1, df_view.shape[0], df_view.shape[0])/df_view.shape[0]\n",
    "porc_train=0.6\n",
    "porc_test=0.2\n",
    "\n",
    "df_view['flag_train'] = 0 #train\n",
    "df_view['flag_train'] = ((df_view['random'] > porc_train)).astype('int') #eval\n",
    "df_view.loc[df_view['random'] > (1-porc_test),'flag_train']=2 #test\n",
    "\n",
    "df_view.flag_train.value_counts()"
   ]
  },
  {
   "cell_type": "code",
   "execution_count": 52,
   "id": "minute-ebony",
   "metadata": {},
   "outputs": [
    {
     "data": {
      "text/plain": [
       "['x4', 'x3', 'x2', 'x1', 'y1', 'x5']"
      ]
     },
     "execution_count": 52,
     "metadata": {},
     "output_type": "execute_result"
    }
   ],
   "source": [
    "#print(categorical_cols)\n",
    "predictors = numerical_cols + categorical_cols \n",
    "end_num = len(numerical_cols)\n",
    "end_cat = len(predictors)\n",
    "predictors"
   ]
  },
  {
   "cell_type": "code",
   "execution_count": 53,
   "id": "adult-syria",
   "metadata": {},
   "outputs": [
    {
     "data": {
      "text/plain": [
       "[5]"
      ]
     },
     "execution_count": 53,
     "metadata": {},
     "output_type": "execute_result"
    }
   ],
   "source": [
    "l = predictors.copy()\n",
    "l.extend(['y', 'flag_train'])\n",
    "#print(l)\n",
    "for x in categorical_cols:\n",
    "    df_view[x] = df_view[x].astype(str)\n",
    "df_view2 = df_view[l].copy()\n",
    "\n",
    "cat_features = [df_view2.columns.get_loc(c) for c in categorical_cols  if c in df_view2]\n",
    "cat_features"
   ]
  },
  {
   "cell_type": "code",
   "execution_count": 54,
   "id": "dress-inside",
   "metadata": {},
   "outputs": [],
   "source": [
    "\n",
    "X_train = df_view2[(df_view2['flag_train'] ==0)]\n",
    "y_train = X_train.pop('y')\n",
    "\n",
    "X_val = df_view2[(df_view2['flag_train'] ==1)]\n",
    "y_val = X_val.pop('y')\n",
    "\n",
    "X_test = df_view2[(df_view2['flag_train'] ==2)]\n",
    "y_test = X_test.pop('y')\n",
    "\n",
    "x_train = X_train[predictors].values"
   ]
  },
  {
   "cell_type": "markdown",
   "id": "reliable-stomach",
   "metadata": {},
   "source": [
    "__Save dataset for test__"
   ]
  },
  {
   "cell_type": "code",
   "execution_count": 56,
   "id": "specialized-wealth",
   "metadata": {},
   "outputs": [],
   "source": [
    "df_view2[(df_view2['flag_train'] == 2)].to_csv('X_test.csv', index = False)\n"
   ]
  },
  {
   "cell_type": "code",
   "execution_count": null,
   "id": "arctic-collect",
   "metadata": {},
   "outputs": [],
   "source": [
    "def catboost_classifier(depth, l2_leaf_reg, num_boost_round, subsample):\n",
    "    params = {\n",
    "        \"loss_function\": \"Logloss\",\n",
    "        \"eval_metric\" : \"AUC\", \n",
    "        \"depth\" : int(depth),\n",
    "        \"min_data_in_leaf\": 100,\n",
    "        \"l2_leaf_reg\" : int(l2_leaf_reg),\n",
    "        \"learning_rate\" : 0.01,\n",
    "        \"random_state\" : 42,\n",
    "        \"logging_level\" : \"Silent\",\n",
    "        \"thread_count\": 24,\n",
    "        \"num_boost_round\": int(num_boost_round),\n",
    "        \"subsample\": float(subsample)\n",
    "    }\n",
    "    train_data = catboost.Pool(data=x_train, \n",
    "                               label=y_train, \n",
    "                               cat_features=cat_features)\n",
    "    cv_result = catboost.cv(\n",
    "                       train_data,\n",
    "                       params,\n",
    "                       early_stopping_rounds=20,\n",
    "                       stratified=True,\n",
    "                       nfold=3)\n",
    "    return cv_result['test-AUC-mean'].iloc[-1]\n",
    "\n",
    "catboostBO = BayesianOptimization(catboost_classifier, {\n",
    "                                                'depth': (3,  10),\n",
    "                                                'l2_leaf_reg': (2, 9),\n",
    "                                                'num_boost_round': (100, 1000),\n",
    "                                                'subsample':(0.2,.9)\n",
    "                                                })\n"
   ]
  },
  {
   "cell_type": "code",
   "execution_count": null,
   "id": "limited-mission",
   "metadata": {},
   "outputs": [],
   "source": [
    "model = CatBoostClassifier(thread_count=5, \n",
    "                           max_depth=10, \n",
    "                           loss_function='Logloss' ,\n",
    "                           verbose=100,\n",
    "                           eval_metric= \"AUC\",#\"CrossEntropy\",\n",
    "                           #early_stopping_rounds=20,\n",
    "                           random_seed=42,\n",
    "                           learning_rate=0.01,\n",
    "                           l2_leaf_reg=5.9,\n",
    "                           min_data_in_leaf=100,\n",
    "                           iterations=900,\n",
    "                           subsample=0.4)\n",
    "\n",
    "model.fit(x_train,  y_train,  eval_set = (X_val[predictors].values, y_val),   cat_features = cat_features, plot=True)"
   ]
  },
  {
   "cell_type": "code",
   "execution_count": null,
   "id": "unusual-cradle",
   "metadata": {},
   "outputs": [],
   "source": [
    "pkl_filename = \"model.pkl\"\n",
    "with open(pkl_filename, 'wb') as file:\n",
    "    pickle.dump(model, file)\n",
    "\n",
    "filename = \"predictors.csv\"\n",
    "with open(filename, 'w') as myfile:\n",
    "    wr = csv.writer(myfile, quoting=csv.QUOTE_ALL)\n",
    "    wr.writerow(predictors)\n",
    "\n",
    "filename = \"to_cat.csv\"\n",
    "with open(filename, 'w') as myfile:\n",
    "    wr = csv.writer(myfile, quoting=csv.QUOTE_ALL)\n",
    "    wr.writerow(categorical_cols)   "
   ]
  },
  {
   "cell_type": "markdown",
   "id": "grave-foundation",
   "metadata": {},
   "source": [
    "## Create pyhon file"
   ]
  },
  {
   "cell_type": "code",
   "execution_count": 6,
   "id": "vertical-mother",
   "metadata": {},
   "outputs": [
    {
     "name": "stdout",
     "output_type": "stream",
     "text": [
      "Overwriting model.py\n"
     ]
    }
   ],
   "source": [
    "%%writefile model.py\n",
    "import numpy as np\n",
    "import csv\n",
    "import os\n",
    "import pandas as pd\n",
    "import pickle\n",
    "default_model_path = '/opt/ml'\n",
    "\n",
    "model_cache = {}\n",
    "\n",
    "def load_model(algorithm, model_path):\n",
    "    if model_cache.get(algorithm) is None:\n",
    "        model_filename = os.path.join(model_path, 'model.pkl')\n",
    "        with open(model_filename, newline='') as file:\n",
    "            model_cache[algorithm] = pickle.load(open(model_filename, 'rb'))\n",
    "    \n",
    "    return model_cache[algorithm]\n",
    "\n",
    "\n",
    "def __read_csv_list(filename):\n",
    "    with open(filename, newline='') as file:\n",
    "        reader = csv.reader(file)\n",
    "        return list(reader)[0]\n",
    "        \n",
    "    return []\n",
    "\n",
    "predictors_cache = {}\n",
    "\n",
    "def load_predictors(algorithm, model_path):\n",
    "    if predictors_cache.get(algorithm) is None:\n",
    "        predictors_filename = os.path.join(model_path, 'predictors.csv')\n",
    "        predictors_cache[algorithm] = __read_csv_list(predictors_filename)\n",
    "            \n",
    "    return predictors_cache[algorithm]\n",
    "\n",
    "to_cat_cache = {}\n",
    "\n",
    "def load_to_cat(algorithm, model_path):\n",
    "    if to_cat_cache.get(algorithm) is None:\n",
    "        to_cat_filename = os.path.join(model_path, 'to_cat.csv')\n",
    "        to_cat_cache[algorithm] = __read_csv_list(to_cat_filename)\n",
    "            \n",
    "    return to_cat_cache[algorithm]\n",
    "\n",
    "\n",
    "def predict(data, model_path = default_model_path):\n",
    "    algorithm = \"algorithm_catboost\"\n",
    "    \n",
    "    model = load_model(algorithm, model_path)\n",
    "    predictors = load_predictors(algorithm, model_path)\n",
    "    to_cat = load_to_cat(algorithm, model_path)\n",
    "    \n",
    "    if data.shape[0] == 0:\n",
    "        return pd.DataFrame()\n",
    "\n",
    "    for x in to_cat:\n",
    "        data[x] = data[x].astype(str)\n",
    "\n",
    "    y_pred_probs = model.predict_proba( data[predictors].values )\n",
    "    probabilities = [item[1] for item in y_pred_probs]\n",
    "    data['pd'] = probabilities\n",
    "    \n",
    "    \n",
    "    return data"
   ]
  },
  {
   "cell_type": "markdown",
   "id": "stainless-packaging",
   "metadata": {},
   "source": [
    "__Test model__"
   ]
  },
  {
   "cell_type": "code",
   "execution_count": 57,
   "id": "rising-register",
   "metadata": {},
   "outputs": [
    {
     "data": {
      "text/html": [
       "<div>\n",
       "<style scoped>\n",
       "    .dataframe tbody tr th:only-of-type {\n",
       "        vertical-align: middle;\n",
       "    }\n",
       "\n",
       "    .dataframe tbody tr th {\n",
       "        vertical-align: top;\n",
       "    }\n",
       "\n",
       "    .dataframe thead th {\n",
       "        text-align: right;\n",
       "    }\n",
       "</style>\n",
       "<table border=\"1\" class=\"dataframe\">\n",
       "  <thead>\n",
       "    <tr style=\"text-align: right;\">\n",
       "      <th></th>\n",
       "      <th>x4</th>\n",
       "      <th>x3</th>\n",
       "      <th>x2</th>\n",
       "      <th>x1</th>\n",
       "      <th>y1</th>\n",
       "      <th>x5</th>\n",
       "      <th>y</th>\n",
       "      <th>flag_train</th>\n",
       "      <th>pd</th>\n",
       "    </tr>\n",
       "  </thead>\n",
       "  <tbody>\n",
       "    <tr>\n",
       "      <th>0</th>\n",
       "      <td>-0.010777</td>\n",
       "      <td>-0.732013</td>\n",
       "      <td>1.134899</td>\n",
       "      <td>1.527905</td>\n",
       "      <td>3.507635</td>\n",
       "      <td>D</td>\n",
       "      <td>1</td>\n",
       "      <td>2</td>\n",
       "      <td>0.624604</td>\n",
       "    </tr>\n",
       "    <tr>\n",
       "      <th>1</th>\n",
       "      <td>0.507330</td>\n",
       "      <td>0.359118</td>\n",
       "      <td>0.526648</td>\n",
       "      <td>-0.100697</td>\n",
       "      <td>2.718173</td>\n",
       "      <td>B</td>\n",
       "      <td>1</td>\n",
       "      <td>2</td>\n",
       "      <td>0.592694</td>\n",
       "    </tr>\n",
       "    <tr>\n",
       "      <th>2</th>\n",
       "      <td>0.165429</td>\n",
       "      <td>-0.450724</td>\n",
       "      <td>1.590835</td>\n",
       "      <td>0.303793</td>\n",
       "      <td>2.095225</td>\n",
       "      <td>B</td>\n",
       "      <td>1</td>\n",
       "      <td>2</td>\n",
       "      <td>0.592271</td>\n",
       "    </tr>\n",
       "    <tr>\n",
       "      <th>3</th>\n",
       "      <td>-0.337947</td>\n",
       "      <td>0.538282</td>\n",
       "      <td>1.398086</td>\n",
       "      <td>-0.764048</td>\n",
       "      <td>1.699226</td>\n",
       "      <td>B</td>\n",
       "      <td>1</td>\n",
       "      <td>2</td>\n",
       "      <td>0.587154</td>\n",
       "    </tr>\n",
       "    <tr>\n",
       "      <th>4</th>\n",
       "      <td>-0.204668</td>\n",
       "      <td>0.223539</td>\n",
       "      <td>-0.050285</td>\n",
       "      <td>1.064482</td>\n",
       "      <td>2.646861</td>\n",
       "      <td>D</td>\n",
       "      <td>1</td>\n",
       "      <td>2</td>\n",
       "      <td>0.623080</td>\n",
       "    </tr>\n",
       "    <tr>\n",
       "      <th>...</th>\n",
       "      <td>...</td>\n",
       "      <td>...</td>\n",
       "      <td>...</td>\n",
       "      <td>...</td>\n",
       "      <td>...</td>\n",
       "      <td>...</td>\n",
       "      <td>...</td>\n",
       "      <td>...</td>\n",
       "      <td>...</td>\n",
       "    </tr>\n",
       "    <tr>\n",
       "      <th>194</th>\n",
       "      <td>0.270106</td>\n",
       "      <td>-1.220430</td>\n",
       "      <td>-1.789519</td>\n",
       "      <td>0.855495</td>\n",
       "      <td>5.829651</td>\n",
       "      <td>D</td>\n",
       "      <td>1</td>\n",
       "      <td>2</td>\n",
       "      <td>0.617781</td>\n",
       "    </tr>\n",
       "    <tr>\n",
       "      <th>195</th>\n",
       "      <td>-0.046588</td>\n",
       "      <td>1.232337</td>\n",
       "      <td>0.883816</td>\n",
       "      <td>0.783989</td>\n",
       "      <td>5.536935</td>\n",
       "      <td>D</td>\n",
       "      <td>1</td>\n",
       "      <td>2</td>\n",
       "      <td>0.618870</td>\n",
       "    </tr>\n",
       "    <tr>\n",
       "      <th>196</th>\n",
       "      <td>-0.302814</td>\n",
       "      <td>-1.168124</td>\n",
       "      <td>-1.160325</td>\n",
       "      <td>-1.800726</td>\n",
       "      <td>-1.656599</td>\n",
       "      <td>B</td>\n",
       "      <td>1</td>\n",
       "      <td>2</td>\n",
       "      <td>0.433109</td>\n",
       "    </tr>\n",
       "    <tr>\n",
       "      <th>197</th>\n",
       "      <td>-0.068465</td>\n",
       "      <td>2.190936</td>\n",
       "      <td>-1.399620</td>\n",
       "      <td>1.002345</td>\n",
       "      <td>-4.664816</td>\n",
       "      <td>D</td>\n",
       "      <td>0</td>\n",
       "      <td>2</td>\n",
       "      <td>0.432097</td>\n",
       "    </tr>\n",
       "    <tr>\n",
       "      <th>198</th>\n",
       "      <td>-0.056286</td>\n",
       "      <td>0.361903</td>\n",
       "      <td>1.120783</td>\n",
       "      <td>0.146827</td>\n",
       "      <td>3.113094</td>\n",
       "      <td>B</td>\n",
       "      <td>1</td>\n",
       "      <td>2</td>\n",
       "      <td>0.608919</td>\n",
       "    </tr>\n",
       "  </tbody>\n",
       "</table>\n",
       "<p>199 rows × 9 columns</p>\n",
       "</div>"
      ],
      "text/plain": [
       "           x4        x3        x2        x1        y1 x5  y  flag_train  \\\n",
       "0   -0.010777 -0.732013  1.134899  1.527905  3.507635  D  1           2   \n",
       "1    0.507330  0.359118  0.526648 -0.100697  2.718173  B  1           2   \n",
       "2    0.165429 -0.450724  1.590835  0.303793  2.095225  B  1           2   \n",
       "3   -0.337947  0.538282  1.398086 -0.764048  1.699226  B  1           2   \n",
       "4   -0.204668  0.223539 -0.050285  1.064482  2.646861  D  1           2   \n",
       "..        ...       ...       ...       ...       ... .. ..         ...   \n",
       "194  0.270106 -1.220430 -1.789519  0.855495  5.829651  D  1           2   \n",
       "195 -0.046588  1.232337  0.883816  0.783989  5.536935  D  1           2   \n",
       "196 -0.302814 -1.168124 -1.160325 -1.800726 -1.656599  B  1           2   \n",
       "197 -0.068465  2.190936 -1.399620  1.002345 -4.664816  D  0           2   \n",
       "198 -0.056286  0.361903  1.120783  0.146827  3.113094  B  1           2   \n",
       "\n",
       "           pd  \n",
       "0    0.624604  \n",
       "1    0.592694  \n",
       "2    0.592271  \n",
       "3    0.587154  \n",
       "4    0.623080  \n",
       "..        ...  \n",
       "194  0.617781  \n",
       "195  0.618870  \n",
       "196  0.433109  \n",
       "197  0.432097  \n",
       "198  0.608919  \n",
       "\n",
       "[199 rows x 9 columns]"
      ]
     },
     "execution_count": 57,
     "metadata": {},
     "output_type": "execute_result"
    }
   ],
   "source": [
    "import model\n",
    "import os\n",
    "import pandas as pd\n",
    "#model_path = os.path.dirname(os.getcwd())\n",
    "model_path = os.getcwd()\n",
    "ret = None\n",
    "with open(os.path.join(model_path,'X_test.csv'), newline='') as file:\n",
    "    data = pd.read_csv(file, sep=',', low_memory=False, error_bad_lines=False)\n",
    "    ret = model.predict(data, model_path)\n",
    "ret"
   ]
  },
  {
   "cell_type": "markdown",
   "id": "approved-worse",
   "metadata": {},
   "source": [
    "# Create web server app\n",
    "__Bottle__ is the webservice api\n",
    "\n",
    "__bjoern__ is the WSGI server"
   ]
  },
  {
   "cell_type": "code",
   "execution_count": 64,
   "id": "level-rebate",
   "metadata": {},
   "outputs": [
    {
     "name": "stdout",
     "output_type": "stream",
     "text": [
      "Overwriting app.py\n"
     ]
    }
   ],
   "source": [
    "%%writefile app.py\n",
    "import pandas as pd\n",
    "import pickle\n",
    "import csv\n",
    "import sys\n",
    "import os\n",
    "import io\n",
    "import bjoern\n",
    "import bottle\n",
    "from bottle import run, request, post, get\n",
    "\n",
    "# adds the model.py path to the list\n",
    "model_path = os.path.dirname(os.getcwd())\n",
    "if 'MODEL_PATH' in os.environ:\n",
    "    model_path = os.environ['MODEL_PATH']\n",
    "\n",
    "sys.path.insert(0,model_path)\n",
    "\n",
    "import model\n",
    "\n",
    "@get('/ping')\n",
    "def ping():\n",
    "    return \"Ok\"\n",
    "\n",
    "@post('/invocations')\n",
    "def invoke():\n",
    "    # load image from POST and convert it to json\n",
    "    try:\n",
    "        req = request.body\n",
    "\n",
    "        data = pd.read_csv(req, sep=',', low_memory=False, error_bad_lines=False)\n",
    "        predictions = model.predict(data, model_path)\n",
    "\n",
    "        return predictions.to_csv(sep=',', index=False)\n",
    "    except Exception as e:\n",
    "        print(e)\n",
    "        return bottle.HTTPResponse(status=500)\n",
    "    \n",
    "\n",
    "if __name__ == '__main__':\n",
    "    if len(sys.argv) < 2 or ( not sys.argv[1] in [ \"serve\", \"train\"] ):\n",
    "        raise Exception(\"Invalid argument: you must inform 'train' for fake training mode or 'serve' predicting mode\") \n",
    "\n",
    "    train = (sys.argv[1] == \"train\")\n",
    "    \n",
    "    if train:\n",
    "        print( \"Fake training completed\" )\n",
    "       \n",
    "    else:\n",
    "        print(\"Server started\")\n",
    "        if 'PORT' in os.environ: \n",
    "            port = int(os.environ['PORT'])\n",
    "        else:\n",
    "            port = 8080\n",
    "        \n",
    "        print(f\"Port: {port}\")\n",
    "        print(f\"Model path: {model_path}\")\n",
    "        bjoern.run(bottle.app(), \"0.0.0.0\", port)\n",
    "        \n",
    "        "
   ]
  },
  {
   "cell_type": "markdown",
   "id": "changing-sunset",
   "metadata": {},
   "source": [
    "## Create Dockerfile"
   ]
  },
  {
   "cell_type": "code",
   "execution_count": 66,
   "id": "matched-methodology",
   "metadata": {},
   "outputs": [
    {
     "name": "stdout",
     "output_type": "stream",
     "text": [
      "Overwriting Dockerfile\n"
     ]
    }
   ],
   "source": [
    "%%writefile Dockerfile\n",
    "FROM python:3.9.1\n",
    "\n",
    "RUN apt-get update -y && apt-get install -y libev-dev\n",
    "RUN pip install bottle\n",
    "RUN pip install bjoern\n",
    "RUN pip install pandas==1.2.2\n",
    "RUN pip install numpy==1.20.1\n",
    "RUN pip install catboost==0.24.4\n",
    "\n",
    "RUN mkdir -p /opt/program\n",
    "RUN mkdir -p /opt/ml\n",
    "\n",
    "ENV PYTHONUNBUFFERED=TRUE\n",
    "ENV PYTHONDONTWRITEBYTECODE=TRUE\n",
    "ENV PATH=\"/opt/program:${PATH}\"\n",
    "ENV MODEL_PATH='/opt/ml'\n",
    "\n",
    "COPY app.py /opt/program\n",
    "COPY model.py /opt/ml\n",
    "COPY model.pkl /opt/ml\n",
    "COPY predictors.csv /opt/ml\n",
    "COPY to_cat.csv /opt/ml\n",
    "\n",
    "WORKDIR /opt/program\n",
    "\n",
    "ENTRYPOINT [\"python\", \"app.py\"]"
   ]
  },
  {
   "cell_type": "markdown",
   "id": "decimal-migration",
   "metadata": {},
   "source": [
    "## Build docker image"
   ]
  },
  {
   "cell_type": "code",
   "execution_count": 67,
   "id": "pleased-mexican",
   "metadata": {},
   "outputs": [
    {
     "name": "stdout",
     "output_type": "stream",
     "text": [
      "Sending build context to Docker daemon  12.74MB\n",
      "Step 1/20 : FROM python:3.9.1\n",
      " ---> 2a93c239d591\n",
      "Step 2/20 : RUN apt-get update -y && apt-get install -y libev-dev\n",
      " ---> Using cache\n",
      " ---> 6596e41441ae\n",
      "Step 3/20 : RUN pip install bottle\n",
      " ---> Using cache\n",
      " ---> 9c477085055a\n",
      "Step 4/20 : RUN pip install bjoern\n",
      " ---> Using cache\n",
      " ---> 8458496a66ce\n",
      "Step 5/20 : RUN pip install pandas==1.2.2\n",
      " ---> Using cache\n",
      " ---> f114805d12d7\n",
      "Step 6/20 : RUN pip install numpy==1.20.1\n",
      " ---> Using cache\n",
      " ---> 7e192144e093\n",
      "Step 7/20 : RUN pip install catboost==0.24.4\n",
      " ---> Using cache\n",
      " ---> 9d83467dc052\n",
      "Step 8/20 : RUN mkdir -p /opt/program\n",
      " ---> Using cache\n",
      " ---> 6efac8035fb6\n",
      "Step 9/20 : RUN mkdir -p /opt/ml\n",
      " ---> Using cache\n",
      " ---> df2caa0db5de\n",
      "Step 10/20 : ENV PYTHONUNBUFFERED=TRUE\n",
      " ---> Using cache\n",
      " ---> 2a4e8d9623a2\n",
      "Step 11/20 : ENV PYTHONDONTWRITEBYTECODE=TRUE\n",
      " ---> Using cache\n",
      " ---> cd203f5fb80e\n",
      "Step 12/20 : ENV PATH=\"/opt/program:${PATH}\"\n",
      " ---> Using cache\n",
      " ---> 623ce389700e\n",
      "Step 13/20 : ENV MODEL_PATH='/opt/ml'\n",
      " ---> Using cache\n",
      " ---> 882ed43fd917\n",
      "Step 14/20 : COPY app.py /opt/program\n",
      " ---> 2667062b1147\n",
      "Step 15/20 : COPY model.py /opt/ml\n",
      " ---> 4d5369307bac\n",
      "Step 16/20 : COPY model.pkl /opt/ml\n",
      " ---> 5eca61a27f35\n",
      "Step 17/20 : COPY predictors.csv /opt/ml\n",
      " ---> 3d6358b4f05a\n",
      "Step 18/20 : COPY to_cat.csv /opt/ml\n",
      " ---> dfbeede4432b\n",
      "Step 19/20 : WORKDIR /opt/program\n",
      " ---> Running in 9fd9d22bfde9\n",
      "Removing intermediate container 9fd9d22bfde9\n",
      " ---> ebb3e94c70d7\n",
      "Step 20/20 : ENTRYPOINT [\"python\", \"app.py\"]\n",
      " ---> Running in 5529df94b72f\n",
      "Removing intermediate container 5529df94b72f\n",
      " ---> 8dca325b3b7d\n",
      "Successfully built 8dca325b3b7d\n",
      "Successfully tagged containerdocker:v0.0.1\n"
     ]
    }
   ],
   "source": [
    "!docker build -t containerdocker:v0.0.1 ."
   ]
  },
  {
   "cell_type": "code",
   "execution_count": 68,
   "id": "tender-adult",
   "metadata": {},
   "outputs": [
    {
     "name": "stdout",
     "output_type": "stream",
     "text": [
      "28b195383cdb04232d3741a3e48af88022c672e9a4e32cf2b80c76a7d798587b\r\n"
     ]
    }
   ],
   "source": [
    "!docker run -p 8081:8080 -d --rm --name test_img containerdocker:v0.0.1 serve"
   ]
  },
  {
   "cell_type": "code",
   "execution_count": 69,
   "id": "educational-stability",
   "metadata": {},
   "outputs": [
    {
     "data": {
      "text/plain": [
       "b'Ok'"
      ]
     },
     "execution_count": 69,
     "metadata": {},
     "output_type": "execute_result"
    }
   ],
   "source": [
    "import urllib.request\n",
    "contents = urllib.request.urlopen(\"http://localhost:8081/ping\").read()\n",
    "contents"
   ]
  },
  {
   "cell_type": "code",
   "execution_count": 91,
   "id": "authorized-speech",
   "metadata": {},
   "outputs": [
    {
     "data": {
      "text/html": [
       "<div>\n",
       "<style scoped>\n",
       "    .dataframe tbody tr th:only-of-type {\n",
       "        vertical-align: middle;\n",
       "    }\n",
       "\n",
       "    .dataframe tbody tr th {\n",
       "        vertical-align: top;\n",
       "    }\n",
       "\n",
       "    .dataframe thead th {\n",
       "        text-align: right;\n",
       "    }\n",
       "</style>\n",
       "<table border=\"1\" class=\"dataframe\">\n",
       "  <thead>\n",
       "    <tr style=\"text-align: right;\">\n",
       "      <th></th>\n",
       "      <th>x4</th>\n",
       "      <th>x3</th>\n",
       "      <th>x2</th>\n",
       "      <th>x1</th>\n",
       "      <th>y1</th>\n",
       "      <th>x5</th>\n",
       "      <th>y</th>\n",
       "      <th>flag_train</th>\n",
       "      <th>pd</th>\n",
       "    </tr>\n",
       "  </thead>\n",
       "  <tbody>\n",
       "    <tr>\n",
       "      <th>0</th>\n",
       "      <td>-0.010777</td>\n",
       "      <td>-0.732013</td>\n",
       "      <td>1.134899</td>\n",
       "      <td>1.527905</td>\n",
       "      <td>3.507635</td>\n",
       "      <td>D</td>\n",
       "      <td>1</td>\n",
       "      <td>2</td>\n",
       "      <td>0.624604</td>\n",
       "    </tr>\n",
       "    <tr>\n",
       "      <th>1</th>\n",
       "      <td>0.507330</td>\n",
       "      <td>0.359118</td>\n",
       "      <td>0.526648</td>\n",
       "      <td>-0.100697</td>\n",
       "      <td>2.718173</td>\n",
       "      <td>B</td>\n",
       "      <td>1</td>\n",
       "      <td>2</td>\n",
       "      <td>0.592694</td>\n",
       "    </tr>\n",
       "    <tr>\n",
       "      <th>2</th>\n",
       "      <td>0.165429</td>\n",
       "      <td>-0.450724</td>\n",
       "      <td>1.590835</td>\n",
       "      <td>0.303793</td>\n",
       "      <td>2.095225</td>\n",
       "      <td>B</td>\n",
       "      <td>1</td>\n",
       "      <td>2</td>\n",
       "      <td>0.592271</td>\n",
       "    </tr>\n",
       "    <tr>\n",
       "      <th>3</th>\n",
       "      <td>-0.337947</td>\n",
       "      <td>0.538282</td>\n",
       "      <td>1.398086</td>\n",
       "      <td>-0.764048</td>\n",
       "      <td>1.699226</td>\n",
       "      <td>B</td>\n",
       "      <td>1</td>\n",
       "      <td>2</td>\n",
       "      <td>0.587154</td>\n",
       "    </tr>\n",
       "    <tr>\n",
       "      <th>4</th>\n",
       "      <td>-0.204668</td>\n",
       "      <td>0.223539</td>\n",
       "      <td>-0.050285</td>\n",
       "      <td>1.064482</td>\n",
       "      <td>2.646861</td>\n",
       "      <td>D</td>\n",
       "      <td>1</td>\n",
       "      <td>2</td>\n",
       "      <td>0.623080</td>\n",
       "    </tr>\n",
       "    <tr>\n",
       "      <th>...</th>\n",
       "      <td>...</td>\n",
       "      <td>...</td>\n",
       "      <td>...</td>\n",
       "      <td>...</td>\n",
       "      <td>...</td>\n",
       "      <td>...</td>\n",
       "      <td>...</td>\n",
       "      <td>...</td>\n",
       "      <td>...</td>\n",
       "    </tr>\n",
       "    <tr>\n",
       "      <th>194</th>\n",
       "      <td>0.270106</td>\n",
       "      <td>-1.220430</td>\n",
       "      <td>-1.789519</td>\n",
       "      <td>0.855495</td>\n",
       "      <td>5.829651</td>\n",
       "      <td>D</td>\n",
       "      <td>1</td>\n",
       "      <td>2</td>\n",
       "      <td>0.617781</td>\n",
       "    </tr>\n",
       "    <tr>\n",
       "      <th>195</th>\n",
       "      <td>-0.046588</td>\n",
       "      <td>1.232337</td>\n",
       "      <td>0.883816</td>\n",
       "      <td>0.783989</td>\n",
       "      <td>5.536935</td>\n",
       "      <td>D</td>\n",
       "      <td>1</td>\n",
       "      <td>2</td>\n",
       "      <td>0.618870</td>\n",
       "    </tr>\n",
       "    <tr>\n",
       "      <th>196</th>\n",
       "      <td>-0.302814</td>\n",
       "      <td>-1.168124</td>\n",
       "      <td>-1.160325</td>\n",
       "      <td>-1.800726</td>\n",
       "      <td>-1.656599</td>\n",
       "      <td>B</td>\n",
       "      <td>1</td>\n",
       "      <td>2</td>\n",
       "      <td>0.433109</td>\n",
       "    </tr>\n",
       "    <tr>\n",
       "      <th>197</th>\n",
       "      <td>-0.068465</td>\n",
       "      <td>2.190936</td>\n",
       "      <td>-1.399620</td>\n",
       "      <td>1.002345</td>\n",
       "      <td>-4.664816</td>\n",
       "      <td>D</td>\n",
       "      <td>0</td>\n",
       "      <td>2</td>\n",
       "      <td>0.432097</td>\n",
       "    </tr>\n",
       "    <tr>\n",
       "      <th>198</th>\n",
       "      <td>-0.056286</td>\n",
       "      <td>0.361903</td>\n",
       "      <td>1.120783</td>\n",
       "      <td>0.146827</td>\n",
       "      <td>3.113094</td>\n",
       "      <td>B</td>\n",
       "      <td>1</td>\n",
       "      <td>2</td>\n",
       "      <td>0.608919</td>\n",
       "    </tr>\n",
       "  </tbody>\n",
       "</table>\n",
       "<p>199 rows × 9 columns</p>\n",
       "</div>"
      ],
      "text/plain": [
       "           x4        x3        x2        x1        y1 x5  y  flag_train  \\\n",
       "0   -0.010777 -0.732013  1.134899  1.527905  3.507635  D  1           2   \n",
       "1    0.507330  0.359118  0.526648 -0.100697  2.718173  B  1           2   \n",
       "2    0.165429 -0.450724  1.590835  0.303793  2.095225  B  1           2   \n",
       "3   -0.337947  0.538282  1.398086 -0.764048  1.699226  B  1           2   \n",
       "4   -0.204668  0.223539 -0.050285  1.064482  2.646861  D  1           2   \n",
       "..        ...       ...       ...       ...       ... .. ..         ...   \n",
       "194  0.270106 -1.220430 -1.789519  0.855495  5.829651  D  1           2   \n",
       "195 -0.046588  1.232337  0.883816  0.783989  5.536935  D  1           2   \n",
       "196 -0.302814 -1.168124 -1.160325 -1.800726 -1.656599  B  1           2   \n",
       "197 -0.068465  2.190936 -1.399620  1.002345 -4.664816  D  0           2   \n",
       "198 -0.056286  0.361903  1.120783  0.146827  3.113094  B  1           2   \n",
       "\n",
       "           pd  \n",
       "0    0.624604  \n",
       "1    0.592694  \n",
       "2    0.592271  \n",
       "3    0.587154  \n",
       "4    0.623080  \n",
       "..        ...  \n",
       "194  0.617781  \n",
       "195  0.618870  \n",
       "196  0.433109  \n",
       "197  0.432097  \n",
       "198  0.608919  \n",
       "\n",
       "[199 rows x 9 columns]"
      ]
     },
     "execution_count": 91,
     "metadata": {},
     "output_type": "execute_result"
    }
   ],
   "source": [
    "with open(os.path.join(model_path,'X_test.csv'), newline='') as file:\n",
    "    #data = pd.read_csv(file, sep=',', low_memory=False, error_bad_lines=False)\n",
    "    data = file.read().encode('utf-8')\n",
    "\n",
    "    # create request\n",
    "    req = urllib.request.Request(\"http://localhost:8081/invocations\", data = data)\n",
    "    \n",
    "\n",
    "# execute request\n",
    "resp = str(urllib.request.urlopen(req).read(),'utf-8')\n",
    "resp = StringIO(resp) \n",
    "res = pd.read_csv(resp)\n",
    "res"
   ]
  }
 ],
 "metadata": {
  "kernelspec": {
   "display_name": "Python 3",
   "language": "python",
   "name": "python3"
  },
  "language_info": {
   "codemirror_mode": {
    "name": "ipython",
    "version": 3
   },
   "file_extension": ".py",
   "mimetype": "text/x-python",
   "name": "python",
   "nbconvert_exporter": "python",
   "pygments_lexer": "ipython3",
   "version": "3.9.1"
  }
 },
 "nbformat": 4,
 "nbformat_minor": 5
}
