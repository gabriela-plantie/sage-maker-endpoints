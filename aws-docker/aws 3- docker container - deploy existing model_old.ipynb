{
 "cells": [
  {
   "cell_type": "code",
   "execution_count": 1,
   "id": "spectacular-designer",
   "metadata": {},
   "outputs": [],
   "source": [
    "import pandas as pd\n",
    "import awswrangler as wr\n",
    "import sagemaker\n",
    "import boto3\n",
    "from sagemaker.amazon.amazon_estimator import image_uris \n",
    "from sagemaker.session import s3_input, Session\n",
    "import urllib\n",
    "import os\n",
    "import numpy as np\n",
    "from sagemaker.predictor import csv_serializer\n",
    "from time import gmtime, strftime"
   ]
  },
  {
   "cell_type": "code",
   "execution_count": 2,
   "id": "facial-audience",
   "metadata": {},
   "outputs": [
    {
     "data": {
      "text/plain": [
       "<module 'credentials' from '/Users/gaby/Documents/GitHub/sm/aws-docker/credentials.py'>"
      ]
     },
     "execution_count": 2,
     "metadata": {},
     "output_type": "execute_result"
    }
   ],
   "source": [
    "!cp ../credentials.py credentials.py \n",
    "import credentials as cr\n",
    "import importlib\n",
    "importlib.reload(cr)"
   ]
  },
  {
   "cell_type": "code",
   "execution_count": 3,
   "id": "sharing-value",
   "metadata": {},
   "outputs": [
    {
     "name": "stdout",
     "output_type": "stream",
     "text": [
      "us-east-2\n"
     ]
    }
   ],
   "source": [
    "bucket_name = 'aws-sm-bucket' \n",
    "my_region = boto3.session.Session().region_name \n",
    "print(my_region)"
   ]
  },
  {
   "cell_type": "code",
   "execution_count": 4,
   "id": "bored-finder",
   "metadata": {},
   "outputs": [
    {
     "name": "stdout",
     "output_type": "stream",
     "text": [
      "s3://aws-sm-bucket/catboost-algo/output\n"
     ]
    }
   ],
   "source": [
    "prefix = 'catboost-algo'\n",
    "output_path ='s3://{}/{}/output'.format(bucket_name, prefix)\n",
    "print(output_path)"
   ]
  },
  {
   "cell_type": "markdown",
   "id": "junior-capitol",
   "metadata": {},
   "source": [
    "## Read local data to S3"
   ]
  },
  {
   "cell_type": "code",
   "execution_count": 5,
   "id": "computational-candidate",
   "metadata": {},
   "outputs": [],
   "source": [
    "name_data = 'test_data'\n",
    "#boto3.Session().resource('s3').Bucket(bucket_name).Object(os.path.join(prefix, f'{name}/{name}.csv')).upload_file(f'{name}.csv')\n"
   ]
  },
  {
   "cell_type": "markdown",
   "id": "stable-mason",
   "metadata": {},
   "source": [
    "## Create model file"
   ]
  },
  {
   "cell_type": "code",
   "execution_count": 6,
   "id": "failing-delicious",
   "metadata": {},
   "outputs": [
    {
     "name": "stdout",
     "output_type": "stream",
     "text": [
      "Overwriting model.py\n"
     ]
    }
   ],
   "source": [
    "%%writefile model.py\n",
    "import numpy as np\n",
    "import csv\n",
    "import os\n",
    "import pandas as pd\n",
    "import pickle\n",
    "default_model_path = '/opt/ml'\n",
    "\n",
    "model_cache = {}\n",
    "\n",
    "def load_model(algorithm, model_path):\n",
    "    if model_cache.get(algorithm) is None:\n",
    "        model_filename = os.path.join(model_path, 'model.pkl')\n",
    "        with open(model_filename, newline='') as file:\n",
    "            model_cache[algorithm] = pickle.load(open(model_filename, 'rb'))\n",
    "    \n",
    "    return model_cache[algorithm]\n",
    "\n",
    "\n",
    "def __read_csv_list(filename):\n",
    "    with open(filename, newline='') as file:\n",
    "        reader = csv.reader(file)\n",
    "        return list(reader)[0]\n",
    "        \n",
    "    return []\n",
    "\n",
    "predictors_cache = {}\n",
    "\n",
    "def load_predictors(algorithm, model_path):\n",
    "    if predictors_cache.get(algorithm) is None:\n",
    "        predictors_filename = os.path.join(model_path, 'predictors.csv')\n",
    "        predictors_cache[algorithm] = __read_csv_list(predictors_filename)\n",
    "            \n",
    "    return predictors_cache[algorithm]\n",
    "\n",
    "to_cat_cache = {}\n",
    "\n",
    "def load_to_cat(algorithm, model_path):\n",
    "    if to_cat_cache.get(algorithm) is None:\n",
    "        to_cat_filename = os.path.join(model_path, 'to_cat.csv')\n",
    "        to_cat_cache[algorithm] = __read_csv_list(to_cat_filename)\n",
    "            \n",
    "    return to_cat_cache[algorithm]\n",
    "\n",
    "\n",
    "def predict(data, model_path = default_model_path):\n",
    "    print(\"Predict: start\")\n",
    "        \n",
    "    algorithm = \"algorithm_catboost\"\n",
    "    \n",
    "    model = load_model(algorithm, model_path)\n",
    "    print(\"Predict: model loaded!\")\n",
    "    predictors = load_predictors(algorithm, model_path)\n",
    "    print(f\"Predict: predictors = {predictors}\")\n",
    "    to_cat = load_to_cat(algorithm, model_path)\n",
    "    print(f\"Predict: to_cat = {to_cat}\")\n",
    "    \n",
    "    if data.shape[0] == 0:\n",
    "        return pd.DataFrame()\n",
    "\n",
    "    for x in to_cat:\n",
    "        data[x] = data[x].astype(str)\n",
    "\n",
    "    y_pred_probs = model.predict_proba( data[predictors].values )\n",
    "    probabilities = [item[1] for item in y_pred_probs]\n",
    "    data['pd'] = probabilities\n",
    "    print(\"Predict: return data\")\n",
    "    \n",
    "    \n",
    "    return data"
   ]
  },
  {
   "cell_type": "code",
   "execution_count": 7,
   "id": "brave-wisconsin",
   "metadata": {},
   "outputs": [
    {
     "name": "stdout",
     "output_type": "stream",
     "text": [
      "Overwriting app.py\n"
     ]
    }
   ],
   "source": [
    "%%writefile app.py\n",
    "import pandas as pd\n",
    "import pickle\n",
    "import csv\n",
    "import sys\n",
    "import os\n",
    "import io\n",
    "import bjoern\n",
    "import bottle\n",
    "from bottle import run, request, post, get\n",
    "\n",
    "# adds the model.py path to the list\n",
    "model_path = os.path.dirname(os.getcwd())\n",
    "if 'MODEL_PATH' in os.environ:\n",
    "    model_path = os.environ['MODEL_PATH']\n",
    "\n",
    "sys.path.insert(0,model_path)\n",
    "\n",
    "import model\n",
    "\n",
    "@get('/ping')\n",
    "def ping():\n",
    "    return \"Ok\"\n",
    "\n",
    "@post('/invocations')\n",
    "def invoke():\n",
    "    # load image from POST and convert it to json\n",
    "    try:\n",
    "        print(f\"request received: \\n\\t content size = {request.content_length}\\n\\t content type = {request.content_type}\")\n",
    "        req = request.body\n",
    "\n",
    "        data = pd.read_csv(req, sep=',', low_memory=False, error_bad_lines=False)\n",
    "        print(f\"request received: dataframe size = {data.shape}\")\n",
    "        predictions = model.predict(data, model_path)\n",
    "        print(f\"request received: prediction done!\")\n",
    "        \n",
    "        return predictions.to_csv(sep=',', index=False)\n",
    "    except Exception as e:\n",
    "        print(f\"Error: {str(e)}\" )\n",
    "        print(\"Unexpected error:\", sys.exc_info())\n",
    "        return bottle.HTTPResponse(status=500)\n",
    "    \n",
    "\n",
    "if __name__ == '__main__':\n",
    "    \n",
    "    if len(sys.argv) == 2 and ( not sys.argv[1] in [ \"serve\", \"train\"] ):\n",
    "        raise Exception(\"Invalid argument: you must inform 'train' for fake training mode or 'serve' predicting mode\") \n",
    "\n",
    "    train = len(sys.argv) == 2 and (sys.argv[1] == \"train\")\n",
    "    \n",
    "    if train:\n",
    "        print(\"copy local model\")\n",
    "        try:\n",
    "            os.makedirs('/opt/ml/model/', exist_ok=True)\n",
    "            shutil.copy2('/opt/program/model.pkl', '/opt/ml/model/model.pkl')\n",
    "        except Exception as e:\n",
    "            print(e)\n",
    "            \n",
    "                \n",
    "        print( \"Fake training completed\" )\n",
    "    else:\n",
    "        print(\"Server started\")\n",
    "        if 'PORT' in os.environ: \n",
    "            port = int(os.environ['PORT'])\n",
    "        else:\n",
    "            port = 8080\n",
    "        \n",
    "        print(f\"Port: {port}\")\n",
    "        print(f\"Model path: {model_path}\")\n",
    "        bjoern.run(bottle.app(), \"0.0.0.0\", port)\n",
    "        \n",
    "        "
   ]
  },
  {
   "cell_type": "code",
   "execution_count": 8,
   "id": "artistic-ukraine",
   "metadata": {},
   "outputs": [],
   "source": [
    "\n",
    "# copy model data that will be in docker file\n",
    "!cp ../local-model/model.pkl ./\n",
    "!cp ../local-model/predictors.csv ./\n",
    "!cp ../local-model/to_cat.csv ./"
   ]
  },
  {
   "cell_type": "code",
   "execution_count": 9,
   "id": "assigned-allergy",
   "metadata": {},
   "outputs": [
    {
     "name": "stdout",
     "output_type": "stream",
     "text": [
      "Overwriting Dockerfile.aws2\n"
     ]
    }
   ],
   "source": [
    "%%writefile Dockerfile.aws2\n",
    "FROM python:3.9.1\n",
    "\n",
    "RUN apt-get update -y && apt-get install -y libev-dev\n",
    "RUN pip install bottle\n",
    "RUN pip install bjoern\n",
    "RUN pip install pandas==1.2.2\n",
    "RUN pip install numpy==1.20.1\n",
    "RUN pip install catboost==0.24.4\n",
    "\n",
    "RUN mkdir -p /opt/program\n",
    "RUN mkdir -p /opt/ml\n",
    "\n",
    "ENV PYTHONUNBUFFERED=TRUE\n",
    "ENV PYTHONDONTWRITEBYTECODE=TRUE\n",
    "ENV PATH=\"/opt/program:${PATH}\"\n",
    "ENV MODEL_PATH='/opt/ml'\n",
    "\n",
    "COPY app.py /opt/program\n",
    "COPY model.py /opt/ml\n",
    "COPY model.pkl /opt/ml\n",
    "COPY predictors.csv /opt/ml\n",
    "COPY to_cat.csv /opt/ml\n",
    "\n",
    "WORKDIR /opt/program\n",
    "\n",
    "ENTRYPOINT [\"python\", \"app.py\"]"
   ]
  },
  {
   "cell_type": "markdown",
   "id": "respiratory-genome",
   "metadata": {},
   "source": [
    "## Build Dockerfile"
   ]
  },
  {
   "cell_type": "code",
   "execution_count": 10,
   "id": "apart-radical",
   "metadata": {},
   "outputs": [
    {
     "name": "stdout",
     "output_type": "stream",
     "text": [
      "Sending build context to Docker daemon  2.274MB\n",
      "Step 1/20 : FROM python:3.9.1\n",
      " ---> 2a93c239d591\n",
      "Step 2/20 : RUN apt-get update -y && apt-get install -y libev-dev\n",
      " ---> Using cache\n",
      " ---> 6596e41441ae\n",
      "Step 3/20 : RUN pip install bottle\n",
      " ---> Using cache\n",
      " ---> 9c477085055a\n",
      "Step 4/20 : RUN pip install bjoern\n",
      " ---> Using cache\n",
      " ---> 8458496a66ce\n",
      "Step 5/20 : RUN pip install pandas==1.2.2\n",
      " ---> Using cache\n",
      " ---> f114805d12d7\n",
      "Step 6/20 : RUN pip install numpy==1.20.1\n",
      " ---> Using cache\n",
      " ---> 7e192144e093\n",
      "Step 7/20 : RUN pip install catboost==0.24.4\n",
      " ---> Using cache\n",
      " ---> 9d83467dc052\n",
      "Step 8/20 : RUN mkdir -p /opt/program\n",
      " ---> Using cache\n",
      " ---> 6efac8035fb6\n",
      "Step 9/20 : RUN mkdir -p /opt/ml\n",
      " ---> Using cache\n",
      " ---> df2caa0db5de\n",
      "Step 10/20 : ENV PYTHONUNBUFFERED=TRUE\n",
      " ---> Using cache\n",
      " ---> 2a4e8d9623a2\n",
      "Step 11/20 : ENV PYTHONDONTWRITEBYTECODE=TRUE\n",
      " ---> Using cache\n",
      " ---> cd203f5fb80e\n",
      "Step 12/20 : ENV PATH=\"/opt/program:${PATH}\"\n",
      " ---> Using cache\n",
      " ---> 623ce389700e\n",
      "Step 13/20 : ENV MODEL_PATH='/opt/ml'\n",
      " ---> Using cache\n",
      " ---> 882ed43fd917\n",
      "Step 14/20 : COPY app.py /opt/program\n",
      " ---> Using cache\n",
      " ---> 346ec9b3d992\n",
      "Step 15/20 : COPY model.py /opt/ml\n",
      " ---> Using cache\n",
      " ---> fa9aa984cd80\n",
      "Step 16/20 : COPY model.pkl /opt/ml\n",
      " ---> Using cache\n",
      " ---> 647bc0a093b9\n",
      "Step 17/20 : COPY predictors.csv /opt/ml\n",
      " ---> Using cache\n",
      " ---> 5ba29c669a3d\n",
      "Step 18/20 : COPY to_cat.csv /opt/ml\n",
      " ---> Using cache\n",
      " ---> acbddcf4b57a\n",
      "Step 19/20 : WORKDIR /opt/program\n",
      " ---> Using cache\n",
      " ---> 37f66443ab8a\n",
      "Step 20/20 : ENTRYPOINT [\"python\", \"app.py\"]\n",
      " ---> Using cache\n",
      " ---> 2e002169b945\n",
      "Successfully built 2e002169b945\n",
      "Successfully tagged containeraws2:v0.0.1\n"
     ]
    }
   ],
   "source": [
    "!docker build -f Dockerfile.aws2 -t containeraws2:v0.0.1 ."
   ]
  },
  {
   "cell_type": "code",
   "execution_count": 11,
   "id": "streaming-filling",
   "metadata": {},
   "outputs": [],
   "source": [
    "container = f'{cr.account_id}.dkr.ecr.{cr.region}.amazonaws.com/aws2-repository'"
   ]
  },
  {
   "cell_type": "code",
   "execution_count": 12,
   "id": "closed-capitol",
   "metadata": {},
   "outputs": [],
   "source": [
    "!docker tag containeraws2:v0.0.1 {container}"
   ]
  },
  {
   "cell_type": "code",
   "execution_count": 13,
   "id": "deluxe-deposit",
   "metadata": {},
   "outputs": [
    {
     "name": "stdout",
     "output_type": "stream",
     "text": [
      "78c5ba9eb3d0fbebe99435d95ae19f221769426f471baaf98d535e4e3e960984\r\n"
     ]
    }
   ],
   "source": [
    "!docker run -p 8081:8080 -d --rm --name test_img {container}"
   ]
  },
  {
   "cell_type": "markdown",
   "id": "every-friendship",
   "metadata": {},
   "source": [
    "## Test locally"
   ]
  },
  {
   "cell_type": "code",
   "execution_count": 14,
   "id": "opponent-shirt",
   "metadata": {},
   "outputs": [
    {
     "data": {
      "text/plain": [
       "b'Ok'"
      ]
     },
     "execution_count": 14,
     "metadata": {},
     "output_type": "execute_result"
    }
   ],
   "source": [
    "import urllib.request\n",
    "contents = urllib.request.urlopen(\"http://localhost:8081/ping\").read()\n",
    "contents"
   ]
  },
  {
   "cell_type": "code",
   "execution_count": 16,
   "id": "younger-creation",
   "metadata": {},
   "outputs": [
    {
     "data": {
      "text/html": [
       "<div>\n",
       "<style scoped>\n",
       "    .dataframe tbody tr th:only-of-type {\n",
       "        vertical-align: middle;\n",
       "    }\n",
       "\n",
       "    .dataframe tbody tr th {\n",
       "        vertical-align: top;\n",
       "    }\n",
       "\n",
       "    .dataframe thead th {\n",
       "        text-align: right;\n",
       "    }\n",
       "</style>\n",
       "<table border=\"1\" class=\"dataframe\">\n",
       "  <thead>\n",
       "    <tr style=\"text-align: right;\">\n",
       "      <th></th>\n",
       "      <th>x1</th>\n",
       "      <th>x3</th>\n",
       "      <th>y1</th>\n",
       "      <th>x4</th>\n",
       "      <th>x2</th>\n",
       "      <th>x5</th>\n",
       "      <th>y</th>\n",
       "      <th>flag_train</th>\n",
       "      <th>pd</th>\n",
       "    </tr>\n",
       "  </thead>\n",
       "  <tbody>\n",
       "    <tr>\n",
       "      <th>0</th>\n",
       "      <td>1.527905</td>\n",
       "      <td>-0.732013</td>\n",
       "      <td>3.507635</td>\n",
       "      <td>-0.010777</td>\n",
       "      <td>1.134899</td>\n",
       "      <td>D</td>\n",
       "      <td>1</td>\n",
       "      <td>2</td>\n",
       "      <td>0.916793</td>\n",
       "    </tr>\n",
       "    <tr>\n",
       "      <th>1</th>\n",
       "      <td>-0.100697</td>\n",
       "      <td>0.359118</td>\n",
       "      <td>2.718173</td>\n",
       "      <td>0.507330</td>\n",
       "      <td>0.526648</td>\n",
       "      <td>B</td>\n",
       "      <td>1</td>\n",
       "      <td>2</td>\n",
       "      <td>0.853656</td>\n",
       "    </tr>\n",
       "    <tr>\n",
       "      <th>2</th>\n",
       "      <td>0.303793</td>\n",
       "      <td>-0.450724</td>\n",
       "      <td>2.095225</td>\n",
       "      <td>0.165429</td>\n",
       "      <td>1.590835</td>\n",
       "      <td>B</td>\n",
       "      <td>1</td>\n",
       "      <td>2</td>\n",
       "      <td>0.865216</td>\n",
       "    </tr>\n",
       "    <tr>\n",
       "      <th>3</th>\n",
       "      <td>-0.764048</td>\n",
       "      <td>0.538282</td>\n",
       "      <td>1.699226</td>\n",
       "      <td>-0.337947</td>\n",
       "      <td>1.398086</td>\n",
       "      <td>B</td>\n",
       "      <td>1</td>\n",
       "      <td>2</td>\n",
       "      <td>0.871932</td>\n",
       "    </tr>\n",
       "    <tr>\n",
       "      <th>4</th>\n",
       "      <td>1.064482</td>\n",
       "      <td>0.223539</td>\n",
       "      <td>2.646861</td>\n",
       "      <td>-0.204668</td>\n",
       "      <td>-0.050285</td>\n",
       "      <td>D</td>\n",
       "      <td>1</td>\n",
       "      <td>2</td>\n",
       "      <td>0.906335</td>\n",
       "    </tr>\n",
       "    <tr>\n",
       "      <th>...</th>\n",
       "      <td>...</td>\n",
       "      <td>...</td>\n",
       "      <td>...</td>\n",
       "      <td>...</td>\n",
       "      <td>...</td>\n",
       "      <td>...</td>\n",
       "      <td>...</td>\n",
       "      <td>...</td>\n",
       "      <td>...</td>\n",
       "    </tr>\n",
       "    <tr>\n",
       "      <th>194</th>\n",
       "      <td>0.855495</td>\n",
       "      <td>-1.220430</td>\n",
       "      <td>5.829651</td>\n",
       "      <td>0.270106</td>\n",
       "      <td>-1.789519</td>\n",
       "      <td>D</td>\n",
       "      <td>1</td>\n",
       "      <td>2</td>\n",
       "      <td>0.893840</td>\n",
       "    </tr>\n",
       "    <tr>\n",
       "      <th>195</th>\n",
       "      <td>0.783989</td>\n",
       "      <td>1.232337</td>\n",
       "      <td>5.536935</td>\n",
       "      <td>-0.046588</td>\n",
       "      <td>0.883816</td>\n",
       "      <td>D</td>\n",
       "      <td>1</td>\n",
       "      <td>2</td>\n",
       "      <td>0.939172</td>\n",
       "    </tr>\n",
       "    <tr>\n",
       "      <th>196</th>\n",
       "      <td>-1.800726</td>\n",
       "      <td>-1.168124</td>\n",
       "      <td>-1.656599</td>\n",
       "      <td>-0.302814</td>\n",
       "      <td>-1.160325</td>\n",
       "      <td>B</td>\n",
       "      <td>1</td>\n",
       "      <td>2</td>\n",
       "      <td>0.243705</td>\n",
       "    </tr>\n",
       "    <tr>\n",
       "      <th>197</th>\n",
       "      <td>1.002345</td>\n",
       "      <td>2.190936</td>\n",
       "      <td>-4.664816</td>\n",
       "      <td>-0.068465</td>\n",
       "      <td>-1.399620</td>\n",
       "      <td>D</td>\n",
       "      <td>0</td>\n",
       "      <td>2</td>\n",
       "      <td>0.207043</td>\n",
       "    </tr>\n",
       "    <tr>\n",
       "      <th>198</th>\n",
       "      <td>0.146827</td>\n",
       "      <td>0.361903</td>\n",
       "      <td>3.113094</td>\n",
       "      <td>-0.056286</td>\n",
       "      <td>1.120783</td>\n",
       "      <td>B</td>\n",
       "      <td>1</td>\n",
       "      <td>2</td>\n",
       "      <td>0.927079</td>\n",
       "    </tr>\n",
       "  </tbody>\n",
       "</table>\n",
       "<p>199 rows × 9 columns</p>\n",
       "</div>"
      ],
      "text/plain": [
       "           x1        x3        y1        x4        x2 x5  y  flag_train  \\\n",
       "0    1.527905 -0.732013  3.507635 -0.010777  1.134899  D  1           2   \n",
       "1   -0.100697  0.359118  2.718173  0.507330  0.526648  B  1           2   \n",
       "2    0.303793 -0.450724  2.095225  0.165429  1.590835  B  1           2   \n",
       "3   -0.764048  0.538282  1.699226 -0.337947  1.398086  B  1           2   \n",
       "4    1.064482  0.223539  2.646861 -0.204668 -0.050285  D  1           2   \n",
       "..        ...       ...       ...       ...       ... .. ..         ...   \n",
       "194  0.855495 -1.220430  5.829651  0.270106 -1.789519  D  1           2   \n",
       "195  0.783989  1.232337  5.536935 -0.046588  0.883816  D  1           2   \n",
       "196 -1.800726 -1.168124 -1.656599 -0.302814 -1.160325  B  1           2   \n",
       "197  1.002345  2.190936 -4.664816 -0.068465 -1.399620  D  0           2   \n",
       "198  0.146827  0.361903  3.113094 -0.056286  1.120783  B  1           2   \n",
       "\n",
       "           pd  \n",
       "0    0.916793  \n",
       "1    0.853656  \n",
       "2    0.865216  \n",
       "3    0.871932  \n",
       "4    0.906335  \n",
       "..        ...  \n",
       "194  0.893840  \n",
       "195  0.939172  \n",
       "196  0.243705  \n",
       "197  0.207043  \n",
       "198  0.927079  \n",
       "\n",
       "[199 rows x 9 columns]"
      ]
     },
     "execution_count": 16,
     "metadata": {},
     "output_type": "execute_result"
    }
   ],
   "source": [
    "model_path = os.path.dirname(os.getcwd())\n",
    "from io import StringIO\n",
    "with open(os.path.join(model_path,'local-model/X_test.csv'), newline='') as file:\n",
    "    #data = pd.read_csv(file, sep=',', low_memory=False, error_bad_lines=False)\n",
    "    data = file.read().encode('utf-8')\n",
    "\n",
    "    # create request\n",
    "    req = urllib.request.Request(\"http://localhost:8081/invocations\", data = data)\n",
    "    \n",
    "\n",
    "# execute request\n",
    "resp = str(urllib.request.urlopen(req).read(),'utf-8')\n",
    "resp = StringIO(resp) \n",
    "res = pd.read_csv(resp)\n",
    "res"
   ]
  },
  {
   "cell_type": "code",
   "execution_count": 17,
   "id": "reduced-examination",
   "metadata": {},
   "outputs": [
    {
     "name": "stdout",
     "output_type": "stream",
     "text": [
      "test_img\r\n"
     ]
    }
   ],
   "source": [
    "!docker stop test_img"
   ]
  },
  {
   "cell_type": "markdown",
   "id": "dietary-accreditation",
   "metadata": {},
   "source": [
    "## Register repo on aws and push it"
   ]
  },
  {
   "cell_type": "code",
   "execution_count": 18,
   "id": "norman-times",
   "metadata": {},
   "outputs": [
    {
     "name": "stdout",
     "output_type": "stream",
     "text": [
      "\r\n",
      "An error occurred (RepositoryAlreadyExistsException) when calling the CreateRepository operation: The repository with name 'aws2-repository' already exists in the registry with id '342342686540'\r\n"
     ]
    }
   ],
   "source": [
    "!aws ecr create-repository --repository-name aws2-repository --region us-east-2    "
   ]
  },
  {
   "cell_type": "code",
   "execution_count": 19,
   "id": "bottom-uganda",
   "metadata": {},
   "outputs": [],
   "source": [
    "## the 1st time run:\n",
    "#sudo usermod -a -G docker ec2-user"
   ]
  },
  {
   "cell_type": "code",
   "execution_count": 20,
   "id": "presidential-distance",
   "metadata": {},
   "outputs": [
    {
     "name": "stdout",
     "output_type": "stream",
     "text": [
      "Login Succeeded\r\n"
     ]
    }
   ],
   "source": [
    "!aws ecr get-login-password --region {cr.region} | docker login --username AWS --password-stdin {cr.account_id}.dkr.ecr.{cr.region}.amazonaws.com"
   ]
  },
  {
   "cell_type": "code",
   "execution_count": 21,
   "id": "inclusive-skirt",
   "metadata": {},
   "outputs": [
    {
     "name": "stdout",
     "output_type": "stream",
     "text": [
      "The push refers to repository [342342686540.dkr.ecr.us-east-2.amazonaws.com/aws2-repository]\n",
      "\n",
      "\u001b[1B98a2ba0c: Preparing \n",
      "\u001b[1Bf7826e12: Preparing \n",
      "\u001b[1B7680ef31: Preparing \n",
      "\u001b[1Bee5a451b: Preparing \n",
      "\u001b[1B63f3754a: Preparing \n",
      "\u001b[1Bd9b70a9a: Preparing \n",
      "\u001b[1B88084211: Preparing \n",
      "\u001b[1B665d4f94: Preparing \n",
      "\u001b[1B1b58dc35: Preparing \n",
      "\u001b[1B1011f5b4: Preparing \n",
      "\u001b[1B97b8ef9e: Preparing \n",
      "\u001b[1B2bb2dcdf: Preparing \n",
      "\u001b[1Bc2412b54: Preparing \n",
      "\u001b[1Ba4895ec9: Preparing \n",
      "\u001b[1B38a52ffe: Preparing \n",
      "\u001b[1B8789e54a: Preparing \n",
      "\u001b[1B3f29c674: Preparing \n",
      "\u001b[1B86ff9f6a: Preparing \n",
      "\u001b[1B4bc8bc80: Preparing \n",
      "\u001b[1B1dc52d99: Preparing \n",
      "\u001b[1B93c71745: Preparing \n",
      "\u001b[3B1dc52d99: Layer already exists 6MB\u001b[19A\u001b[2K\u001b[20A\u001b[2K\u001b[20A\u001b[2K\u001b[18A\u001b[2K\u001b[22A\u001b[2K\u001b[21A\u001b[2K\u001b[17A\u001b[2K\u001b[20A\u001b[2K\u001b[10A\u001b[2K\u001b[11A\u001b[2K\u001b[13A\u001b[2K\u001b[7A\u001b[2K\u001b[2A\u001b[2K\u001b[1A\u001b[2Klatest: digest: sha256:c17b2485b512dd726a24e890403d053bcdd395fe832ce67ea5d244a24724c722 size: 4935\n"
     ]
    }
   ],
   "source": [
    "!docker push {container}"
   ]
  },
  {
   "cell_type": "markdown",
   "id": "rolled-inside",
   "metadata": {},
   "source": [
    "## Create model and endpoint"
   ]
  },
  {
   "cell_type": "code",
   "execution_count": 22,
   "id": "secondary-trade",
   "metadata": {},
   "outputs": [],
   "source": [
    "client = boto3.client('sagemaker')"
   ]
  },
  {
   "cell_type": "code",
   "execution_count": 23,
   "id": "brazilian-cemetery",
   "metadata": {},
   "outputs": [
    {
     "data": {
      "text/plain": [
       "{'ModelArn': 'arn:aws:sagemaker:us-east-2:342342686540:model/aws2-repository-model',\n",
       " 'ResponseMetadata': {'RequestId': '11d45ab6-4aae-41d8-9666-e09fd9be7e28',\n",
       "  'HTTPStatusCode': 200,\n",
       "  'HTTPHeaders': {'x-amzn-requestid': '11d45ab6-4aae-41d8-9666-e09fd9be7e28',\n",
       "   'content-type': 'application/x-amz-json-1.1',\n",
       "   'content-length': '83',\n",
       "   'date': 'Wed, 24 Mar 2021 15:08:15 GMT'},\n",
       "  'RetryAttempts': 0}}"
      ]
     },
     "execution_count": 23,
     "metadata": {},
     "output_type": "execute_result"
    }
   ],
   "source": [
    "model_name='aws2-repository-model'\n",
    "client.create_model(\n",
    "    ModelName=model_name,\n",
    "    ExecutionRoleArn = cr.role,\n",
    "    PrimaryContainer = { 'Image': container }\n",
    ")"
   ]
  },
  {
   "cell_type": "code",
   "execution_count": 24,
   "id": "affected-company",
   "metadata": {},
   "outputs": [
    {
     "data": {
      "text/plain": [
       "{'EndpointConfigArn': 'arn:aws:sagemaker:us-east-2:342342686540:endpoint-config/aws2-repository-config',\n",
       " 'ResponseMetadata': {'RequestId': '40c020ae-154b-4776-84b6-ee78f2dbb0e0',\n",
       "  'HTTPStatusCode': 200,\n",
       "  'HTTPHeaders': {'x-amzn-requestid': '40c020ae-154b-4776-84b6-ee78f2dbb0e0',\n",
       "   'content-type': 'application/x-amz-json-1.1',\n",
       "   'content-length': '103',\n",
       "   'date': 'Wed, 24 Mar 2021 15:08:17 GMT'},\n",
       "  'RetryAttempts': 0}}"
      ]
     },
     "execution_count": 24,
     "metadata": {},
     "output_type": "execute_result"
    }
   ],
   "source": [
    "endpoint_config_name='aws2-repository-config'\n",
    "instance_type='ml.t2.medium'\n",
    "client.create_endpoint_config(\n",
    "    EndpointConfigName = endpoint_config_name,\n",
    "    ProductionVariants=[{\n",
    "        'InstanceType':instance_type,\n",
    "        'InitialInstanceCount':1,\n",
    "        'InitialVariantWeight':1,\n",
    "        'ModelName': model_name,\n",
    "        'VariantName':'AllTraffic'}])"
   ]
  },
  {
   "cell_type": "markdown",
   "id": "ideal-interim",
   "metadata": {},
   "source": [
    "## Deploy endpoint"
   ]
  },
  {
   "cell_type": "code",
   "execution_count": 25,
   "id": "victorian-reverse",
   "metadata": {},
   "outputs": [
    {
     "name": "stdout",
     "output_type": "stream",
     "text": [
      "aws2-repository-endpoint-2021-03-24-15-09-09\n",
      "arn:aws:sagemaker:us-east-2:342342686540:endpoint/aws2-repository-endpoint-2021-03-24-15-09-09\n",
      "Status: Creating\n",
      "Status: Creating\n",
      "Status: Creating\n",
      "Status: Creating\n",
      "Status: Creating\n",
      "Status: Creating\n",
      "Status: Creating\n",
      "Status: Creating\n",
      "Status: InService\n",
      "Arn: arn:aws:sagemaker:us-east-2:342342686540:endpoint/aws2-repository-endpoint-2021-03-24-15-09-09\n",
      "Status: InService\n"
     ]
    }
   ],
   "source": [
    "import time\n",
    "\n",
    "endpoint_name = 'aws2-repository-endpoint-' + strftime(\"%Y-%m-%d-%H-%M-%S\", gmtime())\n",
    "print(endpoint_name)\n",
    "create_endpoint_response = client.create_endpoint(EndpointName = endpoint_name, \n",
    "                                                  EndpointConfigName = endpoint_config_name)\n",
    "\n",
    "print(create_endpoint_response['EndpointArn'])\n",
    "\n",
    "resp = client.describe_endpoint(EndpointName=endpoint_name)\n",
    "status = resp['EndpointStatus']\n",
    "print(\"Status: \" + status)\n",
    "\n",
    "while status=='Creating':\n",
    "    time.sleep(60)\n",
    "    resp = client.describe_endpoint(EndpointName = endpoint_name)\n",
    "    status = resp['EndpointStatus']\n",
    "    print(\"Status: \" + status)\n",
    "\n",
    "print(\"Arn: \" + resp['EndpointArn'])\n",
    "print(\"Status: \" + status)"
   ]
  },
  {
   "cell_type": "code",
   "execution_count": 26,
   "id": "advisory-asian",
   "metadata": {},
   "outputs": [
    {
     "data": {
      "text/plain": [
       "[{'EndpointName': 'aws2-repository-endpoint-2021-03-24-15-09-09',\n",
       "  'EndpointArn': 'arn:aws:sagemaker:us-east-2:342342686540:endpoint/aws2-repository-endpoint-2021-03-24-15-09-09',\n",
       "  'CreationTime': datetime.datetime(2021, 3, 24, 16, 9, 14, 751000, tzinfo=tzlocal()),\n",
       "  'LastModifiedTime': datetime.datetime(2021, 3, 24, 16, 17, 28, 211000, tzinfo=tzlocal()),\n",
       "  'EndpointStatus': 'InService'}]"
      ]
     },
     "execution_count": 26,
     "metadata": {},
     "output_type": "execute_result"
    }
   ],
   "source": [
    "endpoints = client.list_endpoints(SortBy='Status')['Endpoints']\n",
    "endpoints"
   ]
  },
  {
   "cell_type": "code",
   "execution_count": null,
   "id": "expected-lounge",
   "metadata": {},
   "outputs": [],
   "source": [
    "#delete model, endpoint, endpoint configuraiton y el registry (ver)"
   ]
  },
  {
   "cell_type": "code",
   "execution_count": null,
   "id": "broad-bristol",
   "metadata": {},
   "outputs": [],
   "source": [
    "#sagemaker.Session().delete_endpoint('aws2-repository-endpoint-2021-03-23-22-22-15')"
   ]
  },
  {
   "cell_type": "markdown",
   "id": "right-nursery",
   "metadata": {},
   "source": [
    "## Test container"
   ]
  },
  {
   "cell_type": "code",
   "execution_count": 29,
   "id": "revolutionary-modification",
   "metadata": {},
   "outputs": [],
   "source": [
    "import os\n",
    "from io import StringIO\n",
    "runtime_client = boto3.client('sagemaker-runtime')\n",
    "model_path = os.path.dirname(os.getcwd())"
   ]
  },
  {
   "cell_type": "code",
   "execution_count": 30,
   "id": "dominant-exemption",
   "metadata": {},
   "outputs": [],
   "source": [
    "with open(os.path.join(model_path,'local-model/X_test.csv')) as f:\n",
    "    payload = f.read().strip()\n",
    "\n",
    "response = runtime_client.invoke_endpoint(\n",
    "                            EndpointName = endpoint_name, \n",
    "                            ContentType='text/csv', \n",
    "                            Body=payload.encode('utf-8'))\n",
    "result = response['Body'].read()"
   ]
  },
  {
   "cell_type": "code",
   "execution_count": 37,
   "id": "marked-going",
   "metadata": {},
   "outputs": [
    {
     "data": {
      "text/html": [
       "<div>\n",
       "<style scoped>\n",
       "    .dataframe tbody tr th:only-of-type {\n",
       "        vertical-align: middle;\n",
       "    }\n",
       "\n",
       "    .dataframe tbody tr th {\n",
       "        vertical-align: top;\n",
       "    }\n",
       "\n",
       "    .dataframe thead th {\n",
       "        text-align: right;\n",
       "    }\n",
       "</style>\n",
       "<table border=\"1\" class=\"dataframe\">\n",
       "  <thead>\n",
       "    <tr style=\"text-align: right;\">\n",
       "      <th></th>\n",
       "      <th>x1</th>\n",
       "      <th>x3</th>\n",
       "      <th>y1</th>\n",
       "      <th>x4</th>\n",
       "      <th>x2</th>\n",
       "      <th>x5</th>\n",
       "      <th>y</th>\n",
       "      <th>flag_train</th>\n",
       "      <th>pd</th>\n",
       "    </tr>\n",
       "  </thead>\n",
       "  <tbody>\n",
       "    <tr>\n",
       "      <th>0</th>\n",
       "      <td>1.527905</td>\n",
       "      <td>-0.732013</td>\n",
       "      <td>3.507635</td>\n",
       "      <td>-0.010777</td>\n",
       "      <td>1.134899</td>\n",
       "      <td>D</td>\n",
       "      <td>1</td>\n",
       "      <td>2</td>\n",
       "      <td>0.916793</td>\n",
       "    </tr>\n",
       "    <tr>\n",
       "      <th>1</th>\n",
       "      <td>-0.100697</td>\n",
       "      <td>0.359118</td>\n",
       "      <td>2.718173</td>\n",
       "      <td>0.507330</td>\n",
       "      <td>0.526648</td>\n",
       "      <td>B</td>\n",
       "      <td>1</td>\n",
       "      <td>2</td>\n",
       "      <td>0.853656</td>\n",
       "    </tr>\n",
       "    <tr>\n",
       "      <th>2</th>\n",
       "      <td>0.303793</td>\n",
       "      <td>-0.450724</td>\n",
       "      <td>2.095225</td>\n",
       "      <td>0.165429</td>\n",
       "      <td>1.590835</td>\n",
       "      <td>B</td>\n",
       "      <td>1</td>\n",
       "      <td>2</td>\n",
       "      <td>0.865216</td>\n",
       "    </tr>\n",
       "    <tr>\n",
       "      <th>3</th>\n",
       "      <td>-0.764048</td>\n",
       "      <td>0.538282</td>\n",
       "      <td>1.699226</td>\n",
       "      <td>-0.337947</td>\n",
       "      <td>1.398086</td>\n",
       "      <td>B</td>\n",
       "      <td>1</td>\n",
       "      <td>2</td>\n",
       "      <td>0.871932</td>\n",
       "    </tr>\n",
       "    <tr>\n",
       "      <th>4</th>\n",
       "      <td>1.064482</td>\n",
       "      <td>0.223539</td>\n",
       "      <td>2.646861</td>\n",
       "      <td>-0.204668</td>\n",
       "      <td>-0.050285</td>\n",
       "      <td>D</td>\n",
       "      <td>1</td>\n",
       "      <td>2</td>\n",
       "      <td>0.906335</td>\n",
       "    </tr>\n",
       "    <tr>\n",
       "      <th>...</th>\n",
       "      <td>...</td>\n",
       "      <td>...</td>\n",
       "      <td>...</td>\n",
       "      <td>...</td>\n",
       "      <td>...</td>\n",
       "      <td>...</td>\n",
       "      <td>...</td>\n",
       "      <td>...</td>\n",
       "      <td>...</td>\n",
       "    </tr>\n",
       "    <tr>\n",
       "      <th>194</th>\n",
       "      <td>0.855495</td>\n",
       "      <td>-1.220430</td>\n",
       "      <td>5.829651</td>\n",
       "      <td>0.270106</td>\n",
       "      <td>-1.789519</td>\n",
       "      <td>D</td>\n",
       "      <td>1</td>\n",
       "      <td>2</td>\n",
       "      <td>0.893840</td>\n",
       "    </tr>\n",
       "    <tr>\n",
       "      <th>195</th>\n",
       "      <td>0.783989</td>\n",
       "      <td>1.232337</td>\n",
       "      <td>5.536935</td>\n",
       "      <td>-0.046588</td>\n",
       "      <td>0.883816</td>\n",
       "      <td>D</td>\n",
       "      <td>1</td>\n",
       "      <td>2</td>\n",
       "      <td>0.939172</td>\n",
       "    </tr>\n",
       "    <tr>\n",
       "      <th>196</th>\n",
       "      <td>-1.800726</td>\n",
       "      <td>-1.168124</td>\n",
       "      <td>-1.656599</td>\n",
       "      <td>-0.302814</td>\n",
       "      <td>-1.160325</td>\n",
       "      <td>B</td>\n",
       "      <td>1</td>\n",
       "      <td>2</td>\n",
       "      <td>0.243705</td>\n",
       "    </tr>\n",
       "    <tr>\n",
       "      <th>197</th>\n",
       "      <td>1.002345</td>\n",
       "      <td>2.190936</td>\n",
       "      <td>-4.664816</td>\n",
       "      <td>-0.068465</td>\n",
       "      <td>-1.399620</td>\n",
       "      <td>D</td>\n",
       "      <td>0</td>\n",
       "      <td>2</td>\n",
       "      <td>0.207043</td>\n",
       "    </tr>\n",
       "    <tr>\n",
       "      <th>198</th>\n",
       "      <td>0.146827</td>\n",
       "      <td>0.361903</td>\n",
       "      <td>3.113094</td>\n",
       "      <td>-0.056286</td>\n",
       "      <td>1.120783</td>\n",
       "      <td>B</td>\n",
       "      <td>1</td>\n",
       "      <td>2</td>\n",
       "      <td>0.927079</td>\n",
       "    </tr>\n",
       "  </tbody>\n",
       "</table>\n",
       "<p>199 rows × 9 columns</p>\n",
       "</div>"
      ],
      "text/plain": [
       "           x1        x3        y1        x4        x2 x5  y  flag_train  \\\n",
       "0    1.527905 -0.732013  3.507635 -0.010777  1.134899  D  1           2   \n",
       "1   -0.100697  0.359118  2.718173  0.507330  0.526648  B  1           2   \n",
       "2    0.303793 -0.450724  2.095225  0.165429  1.590835  B  1           2   \n",
       "3   -0.764048  0.538282  1.699226 -0.337947  1.398086  B  1           2   \n",
       "4    1.064482  0.223539  2.646861 -0.204668 -0.050285  D  1           2   \n",
       "..        ...       ...       ...       ...       ... .. ..         ...   \n",
       "194  0.855495 -1.220430  5.829651  0.270106 -1.789519  D  1           2   \n",
       "195  0.783989  1.232337  5.536935 -0.046588  0.883816  D  1           2   \n",
       "196 -1.800726 -1.168124 -1.656599 -0.302814 -1.160325  B  1           2   \n",
       "197  1.002345  2.190936 -4.664816 -0.068465 -1.399620  D  0           2   \n",
       "198  0.146827  0.361903  3.113094 -0.056286  1.120783  B  1           2   \n",
       "\n",
       "           pd  \n",
       "0    0.916793  \n",
       "1    0.853656  \n",
       "2    0.865216  \n",
       "3    0.871932  \n",
       "4    0.906335  \n",
       "..        ...  \n",
       "194  0.893840  \n",
       "195  0.939172  \n",
       "196  0.243705  \n",
       "197  0.207043  \n",
       "198  0.927079  \n",
       "\n",
       "[199 rows x 9 columns]"
      ]
     },
     "execution_count": 37,
     "metadata": {},
     "output_type": "execute_result"
    }
   ],
   "source": [
    "s=str(result,'utf-8')\n",
    "pd.read_csv(StringIO(s) )"
   ]
  },
  {
   "cell_type": "code",
   "execution_count": null,
   "id": "facial-monte",
   "metadata": {},
   "outputs": [],
   "source": []
  }
 ],
 "metadata": {
  "kernelspec": {
   "display_name": "Python 3",
   "language": "python",
   "name": "python3"
  },
  "language_info": {
   "codemirror_mode": {
    "name": "ipython",
    "version": 3
   },
   "file_extension": ".py",
   "mimetype": "text/x-python",
   "name": "python",
   "nbconvert_exporter": "python",
   "pygments_lexer": "ipython3",
   "version": "3.9.1"
  }
 },
 "nbformat": 4,
 "nbformat_minor": 5
}
