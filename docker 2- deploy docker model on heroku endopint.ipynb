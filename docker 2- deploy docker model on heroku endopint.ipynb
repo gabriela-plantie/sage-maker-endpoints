{
 "cells": [
  {
   "cell_type": "code",
   "execution_count": 1,
   "id": "respected-institution",
   "metadata": {},
   "outputs": [],
   "source": [
    "from optbinning import OptimalBinning\n",
    "\n",
    "from os import listdir\n",
    "from os.path import isfile, join\n",
    "from datetime import datetime, timedelta\n",
    "import time\n",
    "import sys\n",
    "\n",
    "import pandas as pd\n",
    "import numpy as np\n",
    "import random\n",
    "\n",
    "from scipy import stats\n",
    "from scipy.stats import chi2_contingency\n",
    "from scipy.stats import chi2\n",
    "\n",
    "from optbinning import OptimalBinning\n",
    "from catboost import CatBoostClassifier, Pool, cv\n",
    "\n",
    "import scikitplot as skplt\n",
    "import matplotlib.pyplot as plt\n",
    "from sklearn.metrics import roc_curve\n",
    "from sklearn.metrics import roc_auc_score\n",
    "\n",
    "from bayes_opt import BayesianOptimization\n",
    "import catboost\n",
    "import pickle\n",
    "import csv\n",
    "import scipy as sc"
   ]
  },
  {
   "cell_type": "code",
   "execution_count": null,
   "id": "reliable-vegetation",
   "metadata": {},
   "outputs": [],
   "source": [
    "import credentials as cr"
   ]
  },
  {
   "cell_type": "code",
   "execution_count": null,
   "id": "wound-poultry",
   "metadata": {},
   "outputs": [],
   "source": [
    "import importlib\n",
    "importlib.reload(cr)"
   ]
  },
  {
   "cell_type": "markdown",
   "id": "apart-yukon",
   "metadata": {},
   "source": [
    "## Heroku"
   ]
  },
  {
   "cell_type": "markdown",
   "id": "expressed-illness",
   "metadata": {},
   "source": [
    "Docker entry point image with `serve`"
   ]
  },
  {
   "cell_type": "code",
   "execution_count": 23,
   "id": "clinical-policy",
   "metadata": {},
   "outputs": [],
   "source": [
    "#tag docker image to be uploaded on Heroku.\n",
    "!docker tag containerdocker:v0.0.1 registry.heroku.com/glplantie-containerdocker/web"
   ]
  },
  {
   "cell_type": "raw",
   "id": "wired-relief",
   "metadata": {},
   "source": [
    "Authenticate on Heroku and create app\n",
    "1) heroku auth:login \n",
    "2) docker login --username=_ --password=$(heroku auth:token) registry.heroku.com\n",
    "3) create de app on heroku with the name of your container"
   ]
  },
  {
   "cell_type": "code",
   "execution_count": 24,
   "id": "actual-container",
   "metadata": {},
   "outputs": [
    {
     "name": "stdout",
     "output_type": "stream",
     "text": [
      " ›   Warning: token will expire 03/21/2022\n",
      " ›   Use heroku authorizations:create to generate a long-term token\n",
      "WARNING! Using --password via the CLI is insecure. Use --password-stdin.\n",
      "Login Succeeded\n"
     ]
    }
   ],
   "source": [
    "!docker login --username=_ --password=$(heroku auth:token) registry.heroku.com"
   ]
  },
  {
   "cell_type": "code",
   "execution_count": 25,
   "id": "racial-belfast",
   "metadata": {},
   "outputs": [
    {
     "name": "stdout",
     "output_type": "stream",
     "text": [
      "The push refers to repository [registry.heroku.com/glplantie-containerdocker/web]\n",
      "\n",
      "\u001b[1B16eb939b: Preparing \n",
      "\u001b[1Bac339f5f: Preparing \n",
      "\u001b[1Ba5e0e1e5: Preparing \n",
      "\u001b[1Bd620abe0: Preparing \n",
      "\u001b[1B21fd3e4c: Preparing \n",
      "\u001b[1Bd9b70a9a: Preparing \n",
      "\u001b[1B88084211: Preparing \n",
      "\u001b[1B665d4f94: Preparing \n",
      "\u001b[1B1b58dc35: Preparing \n",
      "\u001b[1B1011f5b4: Preparing \n",
      "\u001b[1B97b8ef9e: Preparing \n",
      "\u001b[1B2bb2dcdf: Preparing \n",
      "\u001b[1Bc2412b54: Preparing \n",
      "\u001b[1Ba4895ec9: Preparing \n",
      "\u001b[1B38a52ffe: Preparing \n",
      "\u001b[1B8789e54a: Preparing \n",
      "\u001b[1B3f29c674: Preparing \n",
      "\u001b[1B86ff9f6a: Preparing \n",
      "\u001b[1B4bc8bc80: Preparing \n",
      "\u001b[1B1dc52d99: Preparing \n",
      "\u001b[1B93c71745: Preparing \n",
      "\u001b[1Bbfe4d6dc: Layer already exists 3kB\u001b[20A\u001b[2K\u001b[20A\u001b[2K\u001b[18A\u001b[2K\u001b[22A\u001b[2K\u001b[15A\u001b[2K\u001b[17A\u001b[2K\u001b[14A\u001b[2K\u001b[11A\u001b[2K\u001b[8A\u001b[2K\u001b[6A\u001b[2K\u001b[5A\u001b[2K\u001b[2A\u001b[2K\u001b[1A\u001b[2Klatest: digest: sha256:10c197d0e95f1898c7bc46df8625262d510a435b44480ae06f3845374545af49 size: 4933\n"
     ]
    }
   ],
   "source": [
    "!docker push registry.heroku.com/glplantie-containerdocker/web"
   ]
  },
  {
   "cell_type": "code",
   "execution_count": 26,
   "id": "disciplinary-abuse",
   "metadata": {},
   "outputs": [
    {
     "name": "stdout",
     "output_type": "stream",
     "text": [
      "\u001b[G\u001b[2K\u001b[?25lReleasing images web to glplantie-containerdocker... \u001b[38;5;104m⣾\u001b[0m \n",
      "\u001b[1A\u001b[53C\u001b[38;5;104m⣽\u001b[0m\u001b[1B\u001b[G\u001b[2K\u001b[1A\u001b[JReleasing images web to glplantie-containerdocker... done\n",
      "\u001b[?25h\u001b[?25h"
     ]
    }
   ],
   "source": [
    "#publish the endpoint on the web\n",
    "!heroku container:release -a glplantie-containerdocker web"
   ]
  },
  {
   "cell_type": "code",
   "execution_count": 27,
   "id": "tropical-contents",
   "metadata": {},
   "outputs": [
    {
     "data": {
      "text/plain": [
       "b'Ok'"
      ]
     },
     "execution_count": 27,
     "metadata": {},
     "output_type": "execute_result"
    }
   ],
   "source": [
    "import urllib.request\n",
    "contents = urllib.request.urlopen(\"https://glplantie-containerdocker.herokuapp.com/ping\").read()\n",
    "contents"
   ]
  },
  {
   "cell_type": "code",
   "execution_count": 32,
   "id": "treated-publisher",
   "metadata": {},
   "outputs": [
    {
     "data": {
      "text/html": [
       "<div>\n",
       "<style scoped>\n",
       "    .dataframe tbody tr th:only-of-type {\n",
       "        vertical-align: middle;\n",
       "    }\n",
       "\n",
       "    .dataframe tbody tr th {\n",
       "        vertical-align: top;\n",
       "    }\n",
       "\n",
       "    .dataframe thead th {\n",
       "        text-align: right;\n",
       "    }\n",
       "</style>\n",
       "<table border=\"1\" class=\"dataframe\">\n",
       "  <thead>\n",
       "    <tr style=\"text-align: right;\">\n",
       "      <th></th>\n",
       "      <th>x4</th>\n",
       "      <th>x3</th>\n",
       "      <th>x2</th>\n",
       "      <th>x1</th>\n",
       "      <th>y1</th>\n",
       "      <th>x5</th>\n",
       "      <th>y</th>\n",
       "      <th>flag_train</th>\n",
       "      <th>pd</th>\n",
       "    </tr>\n",
       "  </thead>\n",
       "  <tbody>\n",
       "    <tr>\n",
       "      <th>0</th>\n",
       "      <td>-0.010777</td>\n",
       "      <td>-0.732013</td>\n",
       "      <td>1.134899</td>\n",
       "      <td>1.527905</td>\n",
       "      <td>3.507635</td>\n",
       "      <td>D</td>\n",
       "      <td>1</td>\n",
       "      <td>2</td>\n",
       "      <td>0.624604</td>\n",
       "    </tr>\n",
       "    <tr>\n",
       "      <th>1</th>\n",
       "      <td>0.507330</td>\n",
       "      <td>0.359118</td>\n",
       "      <td>0.526648</td>\n",
       "      <td>-0.100697</td>\n",
       "      <td>2.718173</td>\n",
       "      <td>B</td>\n",
       "      <td>1</td>\n",
       "      <td>2</td>\n",
       "      <td>0.592694</td>\n",
       "    </tr>\n",
       "    <tr>\n",
       "      <th>2</th>\n",
       "      <td>0.165429</td>\n",
       "      <td>-0.450724</td>\n",
       "      <td>1.590835</td>\n",
       "      <td>0.303793</td>\n",
       "      <td>2.095225</td>\n",
       "      <td>B</td>\n",
       "      <td>1</td>\n",
       "      <td>2</td>\n",
       "      <td>0.592271</td>\n",
       "    </tr>\n",
       "    <tr>\n",
       "      <th>3</th>\n",
       "      <td>-0.337947</td>\n",
       "      <td>0.538282</td>\n",
       "      <td>1.398086</td>\n",
       "      <td>-0.764048</td>\n",
       "      <td>1.699226</td>\n",
       "      <td>B</td>\n",
       "      <td>1</td>\n",
       "      <td>2</td>\n",
       "      <td>0.587154</td>\n",
       "    </tr>\n",
       "    <tr>\n",
       "      <th>4</th>\n",
       "      <td>-0.204668</td>\n",
       "      <td>0.223539</td>\n",
       "      <td>-0.050285</td>\n",
       "      <td>1.064482</td>\n",
       "      <td>2.646861</td>\n",
       "      <td>D</td>\n",
       "      <td>1</td>\n",
       "      <td>2</td>\n",
       "      <td>0.623080</td>\n",
       "    </tr>\n",
       "    <tr>\n",
       "      <th>...</th>\n",
       "      <td>...</td>\n",
       "      <td>...</td>\n",
       "      <td>...</td>\n",
       "      <td>...</td>\n",
       "      <td>...</td>\n",
       "      <td>...</td>\n",
       "      <td>...</td>\n",
       "      <td>...</td>\n",
       "      <td>...</td>\n",
       "    </tr>\n",
       "    <tr>\n",
       "      <th>194</th>\n",
       "      <td>0.270106</td>\n",
       "      <td>-1.220430</td>\n",
       "      <td>-1.789519</td>\n",
       "      <td>0.855495</td>\n",
       "      <td>5.829651</td>\n",
       "      <td>D</td>\n",
       "      <td>1</td>\n",
       "      <td>2</td>\n",
       "      <td>0.617781</td>\n",
       "    </tr>\n",
       "    <tr>\n",
       "      <th>195</th>\n",
       "      <td>-0.046588</td>\n",
       "      <td>1.232337</td>\n",
       "      <td>0.883816</td>\n",
       "      <td>0.783989</td>\n",
       "      <td>5.536935</td>\n",
       "      <td>D</td>\n",
       "      <td>1</td>\n",
       "      <td>2</td>\n",
       "      <td>0.618870</td>\n",
       "    </tr>\n",
       "    <tr>\n",
       "      <th>196</th>\n",
       "      <td>-0.302814</td>\n",
       "      <td>-1.168124</td>\n",
       "      <td>-1.160325</td>\n",
       "      <td>-1.800726</td>\n",
       "      <td>-1.656599</td>\n",
       "      <td>B</td>\n",
       "      <td>1</td>\n",
       "      <td>2</td>\n",
       "      <td>0.433109</td>\n",
       "    </tr>\n",
       "    <tr>\n",
       "      <th>197</th>\n",
       "      <td>-0.068465</td>\n",
       "      <td>2.190936</td>\n",
       "      <td>-1.399620</td>\n",
       "      <td>1.002345</td>\n",
       "      <td>-4.664816</td>\n",
       "      <td>D</td>\n",
       "      <td>0</td>\n",
       "      <td>2</td>\n",
       "      <td>0.432097</td>\n",
       "    </tr>\n",
       "    <tr>\n",
       "      <th>198</th>\n",
       "      <td>-0.056286</td>\n",
       "      <td>0.361903</td>\n",
       "      <td>1.120783</td>\n",
       "      <td>0.146827</td>\n",
       "      <td>3.113094</td>\n",
       "      <td>B</td>\n",
       "      <td>1</td>\n",
       "      <td>2</td>\n",
       "      <td>0.608919</td>\n",
       "    </tr>\n",
       "  </tbody>\n",
       "</table>\n",
       "<p>199 rows × 9 columns</p>\n",
       "</div>"
      ],
      "text/plain": [
       "           x4        x3        x2        x1        y1 x5  y  flag_train  \\\n",
       "0   -0.010777 -0.732013  1.134899  1.527905  3.507635  D  1           2   \n",
       "1    0.507330  0.359118  0.526648 -0.100697  2.718173  B  1           2   \n",
       "2    0.165429 -0.450724  1.590835  0.303793  2.095225  B  1           2   \n",
       "3   -0.337947  0.538282  1.398086 -0.764048  1.699226  B  1           2   \n",
       "4   -0.204668  0.223539 -0.050285  1.064482  2.646861  D  1           2   \n",
       "..        ...       ...       ...       ...       ... .. ..         ...   \n",
       "194  0.270106 -1.220430 -1.789519  0.855495  5.829651  D  1           2   \n",
       "195 -0.046588  1.232337  0.883816  0.783989  5.536935  D  1           2   \n",
       "196 -0.302814 -1.168124 -1.160325 -1.800726 -1.656599  B  1           2   \n",
       "197 -0.068465  2.190936 -1.399620  1.002345 -4.664816  D  0           2   \n",
       "198 -0.056286  0.361903  1.120783  0.146827  3.113094  B  1           2   \n",
       "\n",
       "           pd  \n",
       "0    0.624604  \n",
       "1    0.592694  \n",
       "2    0.592271  \n",
       "3    0.587154  \n",
       "4    0.623080  \n",
       "..        ...  \n",
       "194  0.617781  \n",
       "195  0.618870  \n",
       "196  0.433109  \n",
       "197  0.432097  \n",
       "198  0.608919  \n",
       "\n",
       "[199 rows x 9 columns]"
      ]
     },
     "execution_count": 32,
     "metadata": {},
     "output_type": "execute_result"
    }
   ],
   "source": [
    "import os\n",
    "from io import StringIO\n",
    "\n",
    "model_path = os.getcwd()\n",
    "with open(os.path.join(model_path,'X_test.csv'), newline='') as file:\n",
    "    #data = pd.read_csv(file, sep=',', low_memory=False, error_bad_lines=False)\n",
    "    data = file.read().encode('utf-8')\n",
    "\n",
    "    # create request\n",
    "    req = urllib.request.Request(\"https://glplantie-containerdocker.herokuapp.com/invocations\", data = data)\n",
    "    \n",
    "\n",
    "# execute request\n",
    "resp = str(urllib.request.urlopen(req).read(),'utf-8')\n",
    "resp = StringIO(resp) \n",
    "res = pd.read_csv(resp)\n",
    "res"
   ]
  },
  {
   "cell_type": "code",
   "execution_count": null,
   "id": "aware-yacht",
   "metadata": {},
   "outputs": [],
   "source": []
  }
 ],
 "metadata": {
  "kernelspec": {
   "display_name": "Python 3",
   "language": "python",
   "name": "python3"
  },
  "language_info": {
   "codemirror_mode": {
    "name": "ipython",
    "version": 3
   },
   "file_extension": ".py",
   "mimetype": "text/x-python",
   "name": "python",
   "nbconvert_exporter": "python",
   "pygments_lexer": "ipython3",
   "version": "3.9.1"
  }
 },
 "nbformat": 4,
 "nbformat_minor": 5
}
