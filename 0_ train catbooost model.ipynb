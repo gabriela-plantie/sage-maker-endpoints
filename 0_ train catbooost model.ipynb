{
 "cells": [
  {
   "cell_type": "code",
   "execution_count": 1,
   "id": "respected-institution",
   "metadata": {},
   "outputs": [],
   "source": [
    "from optbinning import OptimalBinning\n",
    "\n",
    "from os import listdir\n",
    "from os.path import isfile, join\n",
    "from datetime import datetime, timedelta\n",
    "import time\n",
    "import sys\n",
    "\n",
    "import pandas as pd\n",
    "import numpy as np\n",
    "import random\n",
    "\n",
    "from scipy import stats\n",
    "from scipy.stats import chi2_contingency\n",
    "from scipy.stats import chi2\n",
    "\n",
    "from optbinning import OptimalBinning\n",
    "from catboost import CatBoostClassifier, Pool, cv\n",
    "\n",
    "import scikitplot as skplt\n",
    "import matplotlib.pyplot as plt\n",
    "from sklearn.metrics import roc_curve\n",
    "from sklearn.metrics import roc_auc_score\n",
    "\n",
    "from bayes_opt import BayesianOptimization\n",
    "import catboost\n",
    "import pickle\n",
    "import csv\n",
    "import scipy as sc"
   ]
  },
  {
   "cell_type": "markdown",
   "id": "coastal-middle",
   "metadata": {},
   "source": [
    "## Create a dataset"
   ]
  },
  {
   "cell_type": "code",
   "execution_count": 41,
   "id": "adverse-crowd",
   "metadata": {},
   "outputs": [],
   "source": [
    "def create_df(seed):\n",
    "    np.random.seed(seed)\n",
    "    x1=np.random.normal(0,1,1000)\n",
    "    x2=np.random.normal(0,1,1000)\n",
    "    x3=np.random.normal(0,1,1000)\n",
    "    x4=np.random.normal(0,1,1000)/5\n",
    "\n",
    "    z=1 + 2*x1 + x2 + 2*x2*x3 +x4\n",
    "    pr=1/(1+np.exp(-z))\n",
    "    y=sc.stats.binom.rvs(1, pr, size=1000)\n",
    "    y1= z+x4\n",
    "    df = pd.DataFrame(data={'y':y, 'y1': y1,'x1':x1, 'x2':x2, 'x3':x3, 'x4':x4})\n",
    "    return [df,z]"
   ]
  },
  {
   "cell_type": "code",
   "execution_count": 42,
   "id": "diverse-italy",
   "metadata": {},
   "outputs": [],
   "source": [
    "df = create_df(30)[0]"
   ]
  },
  {
   "cell_type": "code",
   "execution_count": 43,
   "id": "juvenile-configuration",
   "metadata": {},
   "outputs": [],
   "source": [
    "df['x5'] = 'B'\n",
    "df.loc[df.x1>0.1,'x5'] = 'B'\n",
    "df.loc[df.x1>0.4,'x5'] = 'C'\n",
    "df.loc[df.x1>0.6,'x5'] = 'D'"
   ]
  },
  {
   "cell_type": "code",
   "execution_count": 44,
   "id": "bibliographic-browser",
   "metadata": {},
   "outputs": [],
   "source": [
    "#data = df['data'].copy()\n",
    "#data.columns = df['feature_names'].copy()\n",
    "#df_view = pd.DataFrame(data, columns = list(df['feature_names']))\n",
    "#df_view['target'] = df['target'].copy()"
   ]
  },
  {
   "cell_type": "code",
   "execution_count": 45,
   "id": "figured-cornell",
   "metadata": {},
   "outputs": [],
   "source": [
    "df_view = df.copy()"
   ]
  },
  {
   "cell_type": "code",
   "execution_count": 46,
   "id": "loved-defendant",
   "metadata": {},
   "outputs": [
    {
     "data": {
      "text/plain": [
       "(1000, 7)"
      ]
     },
     "execution_count": 46,
     "metadata": {},
     "output_type": "execute_result"
    }
   ],
   "source": [
    "df_view.shape"
   ]
  },
  {
   "cell_type": "code",
   "execution_count": 47,
   "id": "favorite-egypt",
   "metadata": {},
   "outputs": [
    {
     "data": {
      "text/plain": [
       "float64    5\n",
       "object     1\n",
       "int64      1\n",
       "dtype: int64"
      ]
     },
     "execution_count": 47,
     "metadata": {},
     "output_type": "execute_result"
    }
   ],
   "source": [
    "df_types = df_view.dtypes\n",
    "df_types.value_counts()"
   ]
  },
  {
   "cell_type": "code",
   "execution_count": 48,
   "id": "timely-medicare",
   "metadata": {},
   "outputs": [
    {
     "data": {
      "text/plain": [
       "['x5']"
      ]
     },
     "execution_count": 48,
     "metadata": {},
     "output_type": "execute_result"
    }
   ],
   "source": [
    "categorical_cols = df_types[df_types=='object']\n",
    "categorical_cols = list(categorical_cols.index)\n",
    "categorical_cols = [x for x in categorical_cols if x!='uuid']\n",
    "categorical_cols"
   ]
  },
  {
   "cell_type": "code",
   "execution_count": 49,
   "id": "loaded-aside",
   "metadata": {},
   "outputs": [],
   "source": [
    "numerical_cols = df_types[df_types!='object']\n",
    "numerical_cols = list(numerical_cols.index)\n",
    "numerical_cols = [x for x in numerical_cols if x!='default']\n",
    "to_cat = [x for x in numerical_cols if 'status' in x] \n",
    "categorical_cols = categorical_cols + to_cat\n",
    "#numerical_cols = list(set(numerical_cols)-set(ordinal_cols))\n",
    "numerical_cols = list(set(numerical_cols)-set(categorical_cols))"
   ]
  },
  {
   "cell_type": "code",
   "execution_count": 50,
   "id": "material-samba",
   "metadata": {},
   "outputs": [
    {
     "data": {
      "text/plain": [
       "['x4', 'x3', 'x2', 'x1', 'y1']"
      ]
     },
     "execution_count": 50,
     "metadata": {},
     "output_type": "execute_result"
    }
   ],
   "source": [
    "#numerical_cols.pop('y')\n",
    "pos = numerical_cols.index(\"y\")\n",
    "numerical_cols.pop(pos)\n",
    "numerical_cols"
   ]
  },
  {
   "cell_type": "code",
   "execution_count": 51,
   "id": "ranging-italy",
   "metadata": {},
   "outputs": [
    {
     "data": {
      "text/plain": [
       "0    613\n",
       "2    199\n",
       "1    188\n",
       "Name: flag_train, dtype: int64"
      ]
     },
     "execution_count": 51,
     "metadata": {},
     "output_type": "execute_result"
    }
   ],
   "source": [
    "df_view= df_view[df_view.y.isnull()==False]\n",
    "random.seed(1)\n",
    "df_view['random'] = np.random.randint(1, df_view.shape[0], df_view.shape[0])/df_view.shape[0]\n",
    "porc_train=0.6\n",
    "porc_test=0.2\n",
    "\n",
    "df_view['flag_train'] = 0 #train\n",
    "df_view['flag_train'] = ((df_view['random'] > porc_train)).astype('int') #eval\n",
    "df_view.loc[df_view['random'] > (1-porc_test),'flag_train']=2 #test\n",
    "\n",
    "df_view.flag_train.value_counts()"
   ]
  },
  {
   "cell_type": "code",
   "execution_count": 52,
   "id": "minute-ebony",
   "metadata": {},
   "outputs": [
    {
     "data": {
      "text/plain": [
       "['x4', 'x3', 'x2', 'x1', 'y1', 'x5']"
      ]
     },
     "execution_count": 52,
     "metadata": {},
     "output_type": "execute_result"
    }
   ],
   "source": [
    "#print(categorical_cols)\n",
    "predictors = numerical_cols + categorical_cols \n",
    "end_num = len(numerical_cols)\n",
    "end_cat = len(predictors)\n",
    "predictors"
   ]
  },
  {
   "cell_type": "code",
   "execution_count": 53,
   "id": "adult-syria",
   "metadata": {},
   "outputs": [
    {
     "data": {
      "text/plain": [
       "[5]"
      ]
     },
     "execution_count": 53,
     "metadata": {},
     "output_type": "execute_result"
    }
   ],
   "source": [
    "l = predictors.copy()\n",
    "l.extend(['y', 'flag_train'])\n",
    "#print(l)\n",
    "for x in categorical_cols:\n",
    "    df_view[x] = df_view[x].astype(str)\n",
    "df_view2 = df_view[l].copy()\n",
    "\n",
    "cat_features = [df_view2.columns.get_loc(c) for c in categorical_cols  if c in df_view2]\n",
    "cat_features"
   ]
  },
  {
   "cell_type": "code",
   "execution_count": 54,
   "id": "dress-inside",
   "metadata": {},
   "outputs": [],
   "source": [
    "\n",
    "X_train = df_view2[(df_view2['flag_train'] ==0)]\n",
    "y_train = X_train.pop('y')\n",
    "\n",
    "X_val = df_view2[(df_view2['flag_train'] ==1)]\n",
    "y_val = X_val.pop('y')\n",
    "\n",
    "X_test = df_view2[(df_view2['flag_train'] ==2)]\n",
    "y_test = X_test.pop('y')\n",
    "\n",
    "x_train = X_train[predictors].values"
   ]
  },
  {
   "cell_type": "markdown",
   "id": "reliable-stomach",
   "metadata": {},
   "source": [
    "__Save dataset for test__"
   ]
  },
  {
   "cell_type": "code",
   "execution_count": 56,
   "id": "specialized-wealth",
   "metadata": {},
   "outputs": [],
   "source": [
    "df_view2[(df_view2['flag_train'] == 2)].to_csv('X_test.csv', index = False)\n"
   ]
  },
  {
   "cell_type": "code",
   "execution_count": null,
   "id": "arctic-collect",
   "metadata": {},
   "outputs": [],
   "source": [
    "def catboost_classifier(depth, l2_leaf_reg, num_boost_round, subsample):\n",
    "    params = {\n",
    "        \"loss_function\": \"Logloss\",\n",
    "        \"eval_metric\" : \"AUC\", \n",
    "        \"depth\" : int(depth),\n",
    "        \"min_data_in_leaf\": 100,\n",
    "        \"l2_leaf_reg\" : int(l2_leaf_reg),\n",
    "        \"learning_rate\" : 0.01,\n",
    "        \"random_state\" : 42,\n",
    "        \"logging_level\" : \"Silent\",\n",
    "        \"thread_count\": 24,\n",
    "        \"num_boost_round\": int(num_boost_round),\n",
    "        \"subsample\": float(subsample)\n",
    "    }\n",
    "    train_data = catboost.Pool(data=x_train, \n",
    "                               label=y_train, \n",
    "                               cat_features=cat_features)\n",
    "    cv_result = catboost.cv(\n",
    "                       train_data,\n",
    "                       params,\n",
    "                       early_stopping_rounds=20,\n",
    "                       stratified=True,\n",
    "                       nfold=3)\n",
    "    return cv_result['test-AUC-mean'].iloc[-1]\n",
    "\n",
    "catboostBO = BayesianOptimization(catboost_classifier, {\n",
    "                                                'depth': (3,  10),\n",
    "                                                'l2_leaf_reg': (2, 9),\n",
    "                                                'num_boost_round': (100, 1000),\n",
    "                                                'subsample':(0.2,.9)\n",
    "                                                })\n"
   ]
  },
  {
   "cell_type": "code",
   "execution_count": null,
   "id": "limited-mission",
   "metadata": {},
   "outputs": [],
   "source": [
    "model = CatBoostClassifier(thread_count=5, \n",
    "                           max_depth=10, \n",
    "                           loss_function='Logloss' ,\n",
    "                           verbose=100,\n",
    "                           eval_metric= \"AUC\",#\"CrossEntropy\",\n",
    "                           #early_stopping_rounds=20,\n",
    "                           random_seed=42,\n",
    "                           learning_rate=0.01,\n",
    "                           l2_leaf_reg=5.9,\n",
    "                           min_data_in_leaf=100,\n",
    "                           iterations=900,\n",
    "                           subsample=0.4)\n",
    "\n",
    "model.fit(x_train,  y_train,  eval_set = (X_val[predictors].values, y_val),   cat_features = cat_features, plot=True)"
   ]
  },
  {
   "cell_type": "code",
   "execution_count": null,
   "id": "unusual-cradle",
   "metadata": {},
   "outputs": [],
   "source": [
    "pkl_filename = \"model.pkl\"\n",
    "with open(pkl_filename, 'wb') as file:\n",
    "    pickle.dump(model, file)\n",
    "\n",
    "filename = \"predictors.csv\"\n",
    "with open(filename, 'w') as myfile:\n",
    "    wr = csv.writer(myfile, quoting=csv.QUOTE_ALL)\n",
    "    wr.writerow(predictors)\n",
    "\n",
    "filename = \"to_cat.csv\"\n",
    "with open(filename, 'w') as myfile:\n",
    "    wr = csv.writer(myfile, quoting=csv.QUOTE_ALL)\n",
    "    wr.writerow(categorical_cols)   "
   ]
  }
 ],
 "metadata": {
  "kernelspec": {
   "display_name": "Python 3",
   "language": "python",
   "name": "python3"
  },
  "language_info": {
   "codemirror_mode": {
    "name": "ipython",
    "version": 3
   },
   "file_extension": ".py",
   "mimetype": "text/x-python",
   "name": "python",
   "nbconvert_exporter": "python",
   "pygments_lexer": "ipython3",
   "version": "3.9.1"
  }
 },
 "nbformat": 4,
 "nbformat_minor": 5
}
