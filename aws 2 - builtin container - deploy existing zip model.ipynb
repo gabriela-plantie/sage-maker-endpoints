{
 "cells": [
  {
   "cell_type": "code",
   "execution_count": 1,
   "id": "spectacular-designer",
   "metadata": {},
   "outputs": [],
   "source": [
    "import pandas as pd\n",
    "import awswrangler as wr\n",
    "import sagemaker\n",
    "import boto3\n",
    "from sagemaker.amazon.amazon_estimator import image_uris \n",
    "from sagemaker.session import s3_input, Session\n",
    "import urllib\n",
    "import os\n",
    "import numpy as np\n",
    "from sagemaker.predictor import csv_serializer\n",
    "from time import gmtime, strftime"
   ]
  },
  {
   "cell_type": "code",
   "execution_count": 2,
   "id": "fleet-invitation",
   "metadata": {},
   "outputs": [],
   "source": [
    "import credentials as cr"
   ]
  },
  {
   "cell_type": "code",
   "execution_count": 3,
   "id": "employed-distributor",
   "metadata": {},
   "outputs": [
    {
     "data": {
      "text/plain": [
       "<module 'credentials' from '/Users/gaby/Documents/GitHub/sm/credentials.py'>"
      ]
     },
     "execution_count": 3,
     "metadata": {},
     "output_type": "execute_result"
    }
   ],
   "source": [
    "import importlib\n",
    "importlib.reload(cr)"
   ]
  },
  {
   "cell_type": "code",
   "execution_count": 4,
   "id": "sharing-value",
   "metadata": {},
   "outputs": [
    {
     "name": "stdout",
     "output_type": "stream",
     "text": [
      "us-east-2\n"
     ]
    }
   ],
   "source": [
    "bucket_name = 'aws-sm-bucket' \n",
    "my_region = boto3.session.Session().region_name \n",
    "print(my_region)"
   ]
  },
  {
   "cell_type": "code",
   "execution_count": 5,
   "id": "bored-finder",
   "metadata": {},
   "outputs": [
    {
     "name": "stdout",
     "output_type": "stream",
     "text": [
      "s3://aws-sm-bucket/xgboost-as-a-built-in-algo/output\n"
     ]
    }
   ],
   "source": [
    "prefix = 'xgboost-as-a-built-in-algo'\n",
    "output_path ='s3://{}/{}/output'.format(bucket_name, prefix)\n",
    "print(output_path)"
   ]
  },
  {
   "cell_type": "markdown",
   "id": "junior-capitol",
   "metadata": {},
   "source": [
    "## Read local data to S3"
   ]
  },
  {
   "cell_type": "code",
   "execution_count": 6,
   "id": "computational-candidate",
   "metadata": {},
   "outputs": [],
   "source": [
    "name_data = 'test_data'\n",
    "#boto3.Session().resource('s3').Bucket(bucket_name).Object(os.path.join(prefix, f'{name}/{name}.csv')).upload_file(f'{name}.csv')\n"
   ]
  },
  {
   "cell_type": "markdown",
   "id": "clean-blackberry",
   "metadata": {},
   "source": [
    "## Deploy already trained model to endpoint"
   ]
  },
  {
   "cell_type": "markdown",
   "id": "criminal-hungarian",
   "metadata": {},
   "source": [
    "__Choose the model__"
   ]
  },
  {
   "cell_type": "code",
   "execution_count": 7,
   "id": "worthy-minneapolis",
   "metadata": {},
   "outputs": [],
   "source": [
    "bucket = boto3.resource('s3').Bucket(bucket_name)"
   ]
  },
  {
   "cell_type": "code",
   "execution_count": 74,
   "id": "going-buddy",
   "metadata": {},
   "outputs": [
    {
     "data": {
      "text/plain": [
       "['xgboost-as-a-built-in-algo/output/sagemaker-xgboost-2021-03-18-09-57-40-076/output/model.tar.gz',\n",
       " 'xgboost-as-a-built-in-algo/output/sagemaker-xgboost-2021-03-18-10-26-05-864/output/model.tar.gz',\n",
       " 'xgboost-as-a-built-in-algo/output/sagemaker-xgboost-2021-03-18-10-29-00-410/output/model.tar.gz']"
      ]
     },
     "execution_count": 74,
     "metadata": {},
     "output_type": "execute_result"
    }
   ],
   "source": [
    "models =[ obj.key for obj in bucket.objects.all() if 'model' in obj.key]\n",
    "models"
   ]
  },
  {
   "cell_type": "code",
   "execution_count": 75,
   "id": "consolidated-spyware",
   "metadata": {},
   "outputs": [
    {
     "data": {
      "text/plain": [
       "'xgboost-as-a-built-in-algo/output/sagemaker-xgboost-2021-03-18-09-57-40-076/output/model.tar.gz'"
      ]
     },
     "execution_count": 75,
     "metadata": {},
     "output_type": "execute_result"
    }
   ],
   "source": [
    "model_path = models[0]\n",
    "model_path"
   ]
  },
  {
   "cell_type": "code",
   "execution_count": 91,
   "id": "lesbian-enterprise",
   "metadata": {},
   "outputs": [
    {
     "data": {
      "text/plain": [
       "'model-v2'"
      ]
     },
     "execution_count": 91,
     "metadata": {},
     "output_type": "execute_result"
    }
   ],
   "source": [
    "import re\n",
    "model_name = re.split( '\\/', model_path)[-1]\n",
    "model_name = re.split( '\\.', model_name)[0]\n",
    "model_name = model_name + '-v2'\n",
    "model_name"
   ]
  },
  {
   "cell_type": "markdown",
   "id": "sought-future",
   "metadata": {},
   "source": [
    "__Create sagemaker client__"
   ]
  },
  {
   "cell_type": "code",
   "execution_count": 94,
   "id": "pressing-innocent",
   "metadata": {},
   "outputs": [
    {
     "name": "stdout",
     "output_type": "stream",
     "text": [
      "s3://aws-sm-bucket/xgboost-as-a-built-in-algo/output/sagemaker-xgboost-2021-03-18-09-57-40-076/output/model.tar.gz\n"
     ]
    }
   ],
   "source": [
    "model_url = f's3://{bucket_name}/{model_path}'\n",
    "sm_client = boto3.client('sagemaker')\n",
    "print (model_url)"
   ]
  },
  {
   "cell_type": "markdown",
   "id": "crude-comfort",
   "metadata": {},
   "source": [
    "__Create container with model__"
   ]
  },
  {
   "cell_type": "code",
   "execution_count": 95,
   "id": "prime-landscape",
   "metadata": {},
   "outputs": [
    {
     "name": "stdout",
     "output_type": "stream",
     "text": [
      "arn:aws:sagemaker:us-east-2:342342686540:model/model-v2\n"
     ]
    }
   ],
   "source": [
    "container = image_uris.retrieve(region = boto3.Session().region_name, framework='xgboost', version='1.0-1')\n",
    "primary_container = { 'Image': container, 'ModelDataUrl': model_url,}\n",
    "\n",
    "\n",
    "create_model_response2 = sm_client.create_model(\n",
    "    ModelName = model_name,\n",
    "    ExecutionRoleArn = cr.role,\n",
    "    PrimaryContainer = primary_container)\n",
    "\n",
    "print(create_model_response2['ModelArn'])"
   ]
  },
  {
   "cell_type": "markdown",
   "id": "weighted-louisiana",
   "metadata": {},
   "source": [
    "__Configure the endpoint__"
   ]
  },
  {
   "cell_type": "code",
   "execution_count": 96,
   "id": "beneficial-while",
   "metadata": {},
   "outputs": [],
   "source": [
    "instance_type='ml.t2.medium'"
   ]
  },
  {
   "cell_type": "code",
   "execution_count": 97,
   "id": "efficient-emperor",
   "metadata": {},
   "outputs": [
    {
     "name": "stdout",
     "output_type": "stream",
     "text": [
      "XGBoostEndpointConfig-2021-03-18-12-27-24\n",
      "Endpoint Config Arn: arn:aws:sagemaker:us-east-2:342342686540:endpoint-config/xgboostendpointconfig-2021-03-18-12-27-24\n"
     ]
    }
   ],
   "source": [
    "from time import gmtime, strftime\n",
    "\n",
    "endpoint_config_name = 'XGBoostEndpointConfig-' + strftime(\"%Y-%m-%d-%H-%M-%S\", gmtime())\n",
    "print(endpoint_config_name)\n",
    "create_endpoint_config_response = sm_client.create_endpoint_config(\n",
    "    EndpointConfigName = endpoint_config_name,\n",
    "    ProductionVariants=[{\n",
    "        'InstanceType':instance_type,\n",
    "        'InitialInstanceCount':1,\n",
    "        'InitialVariantWeight':1,\n",
    "        'ModelName': model_name,\n",
    "        'VariantName':'AllTraffic'}])\n",
    "\n",
    "print(\"Endpoint Config Arn: \" + create_endpoint_config_response['EndpointConfigArn'])\n"
   ]
  },
  {
   "cell_type": "markdown",
   "id": "sustained-roads",
   "metadata": {},
   "source": [
    "__Create the endpoint__"
   ]
  },
  {
   "cell_type": "code",
   "execution_count": 98,
   "id": "social-toolbox",
   "metadata": {},
   "outputs": [
    {
     "name": "stdout",
     "output_type": "stream",
     "text": [
      "XGBoostEndpoint-2021-03-18-12-28-17\n",
      "arn:aws:sagemaker:us-east-2:342342686540:endpoint/xgboostendpoint-2021-03-18-12-28-17\n",
      "Status: Creating\n",
      "Status: Creating\n",
      "Status: Creating\n",
      "Status: Creating\n",
      "Status: Creating\n",
      "Status: Creating\n",
      "Status: Creating\n",
      "Status: Creating\n",
      "Status: Creating\n",
      "Status: InService\n",
      "Arn: arn:aws:sagemaker:us-east-2:342342686540:endpoint/xgboostendpoint-2021-03-18-12-28-17\n",
      "Status: InService\n",
      "CPU times: user 252 ms, sys: 46.3 ms, total: 298 ms\n",
      "Wall time: 9min 55s\n"
     ]
    }
   ],
   "source": [
    "%%time\n",
    "## creating the endpoint\n",
    "import time\n",
    "\n",
    "endpoint_name = 'XGBoostEndpoint-' + strftime(\"%Y-%m-%d-%H-%M-%S\", gmtime())\n",
    "print(endpoint_name)\n",
    "create_endpoint_response = sm_client.create_endpoint(EndpointName = endpoint_name, \n",
    "                                                     EndpointConfigName = endpoint_config_name)\n",
    "\n",
    "print(create_endpoint_response['EndpointArn'])\n",
    "\n",
    "resp = sm_client.describe_endpoint(EndpointName=endpoint_name)\n",
    "status = resp['EndpointStatus']\n",
    "print(\"Status: \" + status)\n",
    "\n",
    "while status=='Creating':\n",
    "    time.sleep(60)\n",
    "    resp = sm_client.describe_endpoint(EndpointName = endpoint_name)\n",
    "    status = resp['EndpointStatus']\n",
    "    print(\"Status: \" + status)\n",
    "\n",
    "print(\"Arn: \" + resp['EndpointArn'])\n",
    "print(\"Status: \" + status)"
   ]
  },
  {
   "cell_type": "markdown",
   "id": "packed-saturn",
   "metadata": {},
   "source": [
    "__Check list of endpoints__"
   ]
  },
  {
   "cell_type": "code",
   "execution_count": 99,
   "id": "stable-dallas",
   "metadata": {},
   "outputs": [
    {
     "data": {
      "text/plain": [
       "[{'EndpointName': 'XGBoostEndpoint-2021-03-18-12-28-17',\n",
       "  'EndpointArn': 'arn:aws:sagemaker:us-east-2:342342686540:endpoint/xgboostendpoint-2021-03-18-12-28-17',\n",
       "  'CreationTime': datetime.datetime(2021, 3, 18, 13, 28, 23, 602000, tzinfo=tzlocal()),\n",
       "  'LastModifiedTime': datetime.datetime(2021, 3, 18, 13, 37, 35, 768000, tzinfo=tzlocal()),\n",
       "  'EndpointStatus': 'InService'}]"
      ]
     },
     "execution_count": 99,
     "metadata": {},
     "output_type": "execute_result"
    }
   ],
   "source": [
    "endpoints = sm_client.list_endpoints(SortBy='Status')['Endpoints']\n",
    "endpoints"
   ]
  },
  {
   "cell_type": "markdown",
   "id": "annoying-gateway",
   "metadata": {},
   "source": [
    "## Test container"
   ]
  },
  {
   "cell_type": "code",
   "execution_count": 100,
   "id": "respected-range",
   "metadata": {},
   "outputs": [],
   "source": [
    "test_data = pd.read_csv('test_data.csv')\n",
    "runtime_client = boto3.client('sagemaker-runtime')\n",
    "payload = test_data.copy()\n",
    "payload = payload.drop(payload.columns[0], axis=1)#.values \n",
    "payload.to_csv('payload_data.csv', index=False, header=False)\n"
   ]
  },
  {
   "cell_type": "code",
   "execution_count": 101,
   "id": "human-keeping",
   "metadata": {},
   "outputs": [],
   "source": [
    "with open('payload_data.csv', 'r') as f:\n",
    "    payload = f.read().strip()\n",
    "\n",
    "response = runtime_client.invoke_endpoint(\n",
    "                            EndpointName = endpoint_name, \n",
    "                            ContentType='text/csv', \n",
    "                            Body= payload)\n",
    "result = response['Body'].read()"
   ]
  },
  {
   "cell_type": "code",
   "execution_count": 102,
   "id": "imported-dominican",
   "metadata": {},
   "outputs": [
    {
     "name": "stdout",
     "output_type": "stream",
     "text": [
      "Predicted    0.0  1.0\n",
      "Observed             \n",
      "0          10783  152\n",
      "1           1135  286\n",
      "\n",
      "Overall Classification Rate: 89.6%\n",
      "\n",
      "Predicted      No Purchase    Purchase\n",
      "Observed\n",
      "No Purchase    90% (10783)    35% (152)\n",
      "Purchase        10% (1135)     65% (286) \n",
      "\n"
     ]
    }
   ],
   "source": [
    "\n",
    "\n",
    "predictions_array = np.fromstring(result, sep=',') # and turn the prediction into an array\n",
    "cm = pd.crosstab(index=test_data[test_data.columns[0]], \n",
    "                 columns=np.round(predictions_array), \n",
    "                 rownames=['Observed'], \n",
    "                 colnames=['Predicted'])\n",
    "print(cm)\n",
    "tn = cm.iloc[0,0]; fn = cm.iloc[1,0]; tp = cm.iloc[1,1]; fp = cm.iloc[0,1]; p = (tp+tn)/(tp+tn+fp+fn)*100\n",
    "print(\"\\n{0:<20}{1:<4.1f}%\\n\".format(\"Overall Classification Rate: \", p))\n",
    "print(\"{0:<15}{1:<15}{2:>8}\".format(\"Predicted\", \"No Purchase\", \"Purchase\"))\n",
    "print(\"Observed\")\n",
    "print(\"{0:<15}{1:<2.0f}% ({2:<}){3:>6.0f}% ({4:<})\".format(\"No Purchase\", tn/(tn+fn)*100,tn, fp/(tp+fp)*100, fp))\n",
    "print(\"{0:<16}{1:<1.0f}% ({2:<}){3:>7.0f}% ({4:<}) \\n\".format(\"Purchase\", fn/(tn+fn)*100,fn, tp/(tp+fp)*100, tp))"
   ]
  },
  {
   "cell_type": "markdown",
   "id": "touched-needle",
   "metadata": {},
   "source": [
    "## Delete models"
   ]
  },
  {
   "cell_type": "code",
   "execution_count": 116,
   "id": "green-cheese",
   "metadata": {},
   "outputs": [
    {
     "data": {
      "text/plain": [
       "['model-v2']"
      ]
     },
     "execution_count": 116,
     "metadata": {},
     "output_type": "execute_result"
    }
   ],
   "source": [
    "models = sm_client.list_models()\n",
    "#https://us-east-2.console.aws.amazon.com/sagemaker/home?region=us-east-2#/models\n",
    "models = [x['ModelName'] for x in models['Models']]\n",
    "models"
   ]
  },
  {
   "cell_type": "code",
   "execution_count": 117,
   "id": "interpreted-morgan",
   "metadata": {},
   "outputs": [
    {
     "name": "stdout",
     "output_type": "stream",
     "text": [
      "model-v2\n"
     ]
    }
   ],
   "source": [
    "for x in models:\n",
    "    print(x)\n",
    "    if x != model_name:\n",
    "        print('****** delete: ' + str(x))\n",
    "        sm_client.delete_model(ModelName = str(x))\n"
   ]
  },
  {
   "cell_type": "markdown",
   "id": "intermediate-maryland",
   "metadata": {},
   "source": [
    "## Delete Endpoints"
   ]
  },
  {
   "cell_type": "code",
   "execution_count": 109,
   "id": "perfect-providence",
   "metadata": {},
   "outputs": [
    {
     "name": "stdout",
     "output_type": "stream",
     "text": [
      "XGBoostEndpoint-2021-03-18-12-28-17\n"
     ]
    }
   ],
   "source": [
    "#if you want to delete a list of endpoints keeping the last \"keep_ast\" ones.\n",
    "keep_last = 0\n",
    "endpoints = sm_client.list_endpoints(SortBy='Status')['Endpoints']\n",
    "for i in range(keep_last, len(endpoints) - keep_last):# exclude last training and delete\n",
    "    name = endpoints[i]['EndpointName']\n",
    "    print(name)\n",
    "    sagemaker.Session().delete_endpoint(name)"
   ]
  },
  {
   "cell_type": "markdown",
   "id": "pharmaceutical-rolling",
   "metadata": {},
   "source": [
    "## Delete S3 objects"
   ]
  },
  {
   "cell_type": "code",
   "execution_count": null,
   "id": "official-hotel",
   "metadata": {},
   "outputs": [],
   "source": [
    "bucket_to_delete = boto3.resource('s3').Bucket(bucket_name)\n",
    "print(bucket_to_delete.objects.all())\n",
    "bucket_to_delete.objects.all().delete()"
   ]
  }
 ],
 "metadata": {
  "kernelspec": {
   "display_name": "Python 3",
   "language": "python",
   "name": "python3"
  },
  "language_info": {
   "codemirror_mode": {
    "name": "ipython",
    "version": 3
   },
   "file_extension": ".py",
   "mimetype": "text/x-python",
   "name": "python",
   "nbconvert_exporter": "python",
   "pygments_lexer": "ipython3",
   "version": "3.9.1"
  }
 },
 "nbformat": 4,
 "nbformat_minor": 5
}
