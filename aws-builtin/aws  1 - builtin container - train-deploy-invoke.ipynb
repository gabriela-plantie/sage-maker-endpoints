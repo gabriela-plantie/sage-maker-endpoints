{
 "cells": [
  {
   "cell_type": "code",
   "execution_count": 21,
   "id": "spectacular-designer",
   "metadata": {},
   "outputs": [],
   "source": [
    "import sys\n",
    "import pandas as pd\n",
    "import awswrangler as wr\n",
    "import sagemaker\n",
    "import boto3\n",
    "from sagemaker.amazon.amazon_estimator import image_uris \n",
    "from sagemaker.session import s3_input, Session\n",
    "import urllib\n",
    "import os\n",
    "import numpy as np\n",
    "from sagemaker.predictor import csv_serializer"
   ]
  },
  {
   "cell_type": "code",
   "execution_count": 22,
   "id": "loving-poison",
   "metadata": {},
   "outputs": [],
   "source": [
    "import credentials as cr"
   ]
  },
  {
   "cell_type": "code",
   "execution_count": 23,
   "id": "missing-document",
   "metadata": {},
   "outputs": [
    {
     "data": {
      "text/plain": [
       "<module 'credentials' from '/Users/gaby/Documents/GitHub/sm/credentials.py'>"
      ]
     },
     "execution_count": 23,
     "metadata": {},
     "output_type": "execute_result"
    }
   ],
   "source": [
    "import importlib\n",
    "importlib.reload(cr)"
   ]
  },
  {
   "cell_type": "code",
   "execution_count": 24,
   "id": "inner-shock",
   "metadata": {},
   "outputs": [],
   "source": [
    "#import sagemaker as sm\n",
    "#wr.__version__\n",
    "#sm.__version__"
   ]
  },
  {
   "cell_type": "code",
   "execution_count": 25,
   "id": "sharing-value",
   "metadata": {},
   "outputs": [
    {
     "name": "stdout",
     "output_type": "stream",
     "text": [
      "us-east-2\n"
     ]
    }
   ],
   "source": [
    "bucket_name = 'aws-sm-bucket' \n",
    "my_region = boto3.session.Session().region_name \n",
    "print(my_region)"
   ]
  },
  {
   "cell_type": "code",
   "execution_count": 26,
   "id": "bored-finder",
   "metadata": {},
   "outputs": [
    {
     "name": "stdout",
     "output_type": "stream",
     "text": [
      "s3://aws-sm-bucket/xgboost-as-a-built-in-algo/output\n"
     ]
    }
   ],
   "source": [
    "prefix = 'xgboost-as-a-built-in-algo'\n",
    "output_path ='s3://{}/{}/output'.format(bucket_name, prefix)\n",
    "print(output_path)"
   ]
  },
  {
   "cell_type": "markdown",
   "id": "liable-convenience",
   "metadata": {},
   "source": [
    "### Dataset + split train , val and test"
   ]
  },
  {
   "cell_type": "code",
   "execution_count": 27,
   "id": "hazardous-luxembourg",
   "metadata": {},
   "outputs": [
    {
     "name": "stdout",
     "output_type": "stream",
     "text": [
      "(41188, 60) (16475, 60) (12356, 60) (12357, 60)\n"
     ]
    }
   ],
   "source": [
    "urllib.request.urlretrieve (\"https://d1.awsstatic.com/tmt/build-train-deploy-machine-learning-model-sagemaker/bank_clean.27f01fbbdf43271788427f3682996ae29ceca05d.csv\", \"bank_clean.csv\")\n",
    "model_data = pd.read_csv('./bank_clean.csv',index_col=0)\n",
    "model_data = pd.concat([model_data['y_yes'], model_data.drop(['y_no', 'y_yes'], axis=1)], axis=1)\n",
    "\n",
    "size_train = .4\n",
    "size_test = .3\n",
    "\n",
    "train_data, val_data, test_data = np.split(model_data.sample(frac=1, random_state=1729), \n",
    "                                           [int(size_train * len(model_data)), int((1-size_test) * len(model_data))])\n",
    "\n",
    "print(model_data.shape, train_data.shape, val_data.shape, test_data.shape)\n",
    "\n"
   ]
  },
  {
   "cell_type": "markdown",
   "id": "junior-capitol",
   "metadata": {},
   "source": [
    "## Save data in S3"
   ]
  },
  {
   "cell_type": "code",
   "execution_count": 28,
   "id": "computational-candidate",
   "metadata": {},
   "outputs": [
    {
     "name": "stdout",
     "output_type": "stream",
     "text": [
      "train_data\n",
      "val_data\n",
      "test_data\n"
     ]
    }
   ],
   "source": [
    "ds = dict (zip(['train_data', 'val_data', 'test_data']  , [train_data, val_data, test_data]))\n",
    "\n",
    "for name in ds:\n",
    "    df= ds[name]\n",
    "    print(name)\n",
    "    df.to_csv(str(name)+'.csv', index=False, header=False)\n",
    "    boto3.Session().resource('s3').Bucket(bucket_name).Object(os.path.join(prefix, f'{name}/{name}.csv')).upload_file(f'{name}.csv')\n",
    "\n",
    "s3_input_train = sagemaker.inputs.TrainingInput(s3_data='s3://{}/{}/train_data'.format(bucket_name, prefix), content_type='csv')\n",
    "s3_input_val = sagemaker.inputs.TrainingInput(s3_data='s3://{}/{}/val_data'.format(bucket_name, prefix), content_type='csv')"
   ]
  },
  {
   "cell_type": "markdown",
   "id": "radio-kinase",
   "metadata": {},
   "source": [
    "## Load AWS container with prebuilt algorithm"
   ]
  },
  {
   "cell_type": "code",
   "execution_count": 29,
   "id": "stupid-peninsula",
   "metadata": {},
   "outputs": [],
   "source": [
    "container = image_uris.retrieve(region = boto3.Session().region_name, framework='xgboost', version='1.0-1')"
   ]
  },
  {
   "cell_type": "code",
   "execution_count": 30,
   "id": "vanilla-wyoming",
   "metadata": {},
   "outputs": [],
   "source": [
    "hyperparameters = {\n",
    "        \"max_depth\":\"5\",\n",
    "        \"eta\":\"0.2\",\n",
    "        \"gamma\":\"4\",\n",
    "        \"min_child_weight\":\"6\",\n",
    "        \"subsample\":\"0.7\",\n",
    "        \"objective\":\"binary:logistic\",\n",
    "        \"num_round\":50\n",
    "        }"
   ]
  },
  {
   "cell_type": "code",
   "execution_count": 68,
   "id": "perceived-kansas",
   "metadata": {},
   "outputs": [],
   "source": [
    "estimator = sagemaker.estimator.Estimator(image_uri=container, \n",
    "                                          hyperparameters=hyperparameters,\n",
    "                                          role= cr.role,\n",
    "                                          instance_count=1, \n",
    "                                          instance_type='ml.m4.xlarge', \n",
    "                                          volume_size=3, # 5 GB \n",
    "                                          output_path=output_path,\n",
    "                                          use_spot_instances=True,\n",
    "                                          max_run=300,\n",
    "                                          max_wait=600)"
   ]
  },
  {
   "cell_type": "code",
   "execution_count": 69,
   "id": "instant-portfolio",
   "metadata": {
    "scrolled": false
   },
   "outputs": [
    {
     "name": "stdout",
     "output_type": "stream",
     "text": [
      "2021-03-18 10:29:05 Starting - Starting the training job..\n",
      "2021-03-18 10:29:29 Starting - Launching requested ML instancesProfilerReport-1616063340: InProgress\n",
      "....\n",
      "2021-03-18 10:30:49 Starting - Preparing the instances for training..\n",
      "2021-03-18 10:31:30 Downloading - Downloading input data..\n",
      "2021-03-18 10:31:50 Training - Downloading the training image..\n",
      "2021-03-18 10:32:40 Uploading - Uploading generated training model\n",
      "2021-03-18 10:32:40 Completed - Training job completed\n",
      "\u001b[34mINFO:sagemaker-containers:Imported framework sagemaker_xgboost_container.training\u001b[0m\n",
      "\u001b[34mINFO:sagemaker-containers:Failed to parse hyperparameter objective value binary:logistic to Json.\u001b[0m\n",
      "\u001b[34mReturning the value itself\u001b[0m\n",
      "\u001b[34mINFO:sagemaker-containers:No GPUs detected (normal if no gpus installed)\u001b[0m\n",
      "\u001b[34mINFO:sagemaker_xgboost_container.training:Running XGBoost Sagemaker in algorithm mode\u001b[0m\n",
      "\u001b[34mINFO:root:Determined delimiter of CSV input is ','\u001b[0m\n",
      "\u001b[34mINFO:root:Determined delimiter of CSV input is ','\u001b[0m\n",
      "\u001b[34mINFO:root:Determined delimiter of CSV input is ','\u001b[0m\n",
      "\u001b[34m[10:32:29] 16475x59 matrix with 972025 entries loaded from /opt/ml/input/data/train?format=csv&label_column=0&delimiter=,\u001b[0m\n",
      "\u001b[34mINFO:root:Determined delimiter of CSV input is ','\u001b[0m\n",
      "\u001b[34m[10:32:29] 12356x59 matrix with 729004 entries loaded from /opt/ml/input/data/validation?format=csv&label_column=0&delimiter=,\u001b[0m\n",
      "\u001b[34mINFO:root:Single node training.\u001b[0m\n",
      "\u001b[34mINFO:root:Train matrix has 16475 rows\u001b[0m\n",
      "\u001b[34mINFO:root:Validation matrix has 12356 rows\u001b[0m\n",
      "\u001b[34m[10:32:29] WARNING: /workspace/src/learner.cc:328: \u001b[0m\n",
      "\u001b[34mParameters: { num_round } might not be used.\n",
      "\n",
      "  This may not be accurate due to some parameters are only used in language bindings but\n",
      "  passed down to XGBoost core.  Or some parameters are not used but slip through this\n",
      "  verification. Please open an issue if you find above cases.\n",
      "\n",
      "\u001b[0m\n",
      "\u001b[34m[0]#011train-error:0.09918#011validation-error:0.10432\u001b[0m\n",
      "\u001b[34m[1]#011train-error:0.09888#011validation-error:0.10384\u001b[0m\n",
      "\u001b[34m[2]#011train-error:0.09857#011validation-error:0.10408\u001b[0m\n",
      "\u001b[34m[3]#011train-error:0.09760#011validation-error:0.10319\u001b[0m\n",
      "\u001b[34m[4]#011train-error:0.09742#011validation-error:0.10359\u001b[0m\n",
      "\u001b[34m[5]#011train-error:0.09803#011validation-error:0.10270\u001b[0m\n",
      "\u001b[34m[6]#011train-error:0.09809#011validation-error:0.10295\u001b[0m\n",
      "\u001b[34m[7]#011train-error:0.09791#011validation-error:0.10319\u001b[0m\n",
      "\u001b[34m[8]#011train-error:0.09797#011validation-error:0.10262\u001b[0m\n",
      "\u001b[34m[9]#011train-error:0.09778#011validation-error:0.10278\u001b[0m\n",
      "\u001b[34m[10]#011train-error:0.09772#011validation-error:0.10262\u001b[0m\n",
      "\u001b[34m[11]#011train-error:0.09766#011validation-error:0.10335\u001b[0m\n",
      "\u001b[34m[12]#011train-error:0.09754#011validation-error:0.10311\u001b[0m\n",
      "\u001b[34m[13]#011train-error:0.09730#011validation-error:0.10319\u001b[0m\n",
      "\u001b[34m[14]#011train-error:0.09730#011validation-error:0.10286\u001b[0m\n",
      "\u001b[34m[15]#011train-error:0.09699#011validation-error:0.10286\u001b[0m\n",
      "\u001b[34m[16]#011train-error:0.09712#011validation-error:0.10254\u001b[0m\n",
      "\u001b[34m[17]#011train-error:0.09706#011validation-error:0.10238\u001b[0m\n",
      "\u001b[34m[18]#011train-error:0.09706#011validation-error:0.10295\u001b[0m\n",
      "\u001b[34m[19]#011train-error:0.09706#011validation-error:0.10278\u001b[0m\n",
      "\u001b[34m[20]#011train-error:0.09718#011validation-error:0.10254\u001b[0m\n",
      "\u001b[34m[21]#011train-error:0.09742#011validation-error:0.10262\u001b[0m\n",
      "\u001b[34m[22]#011train-error:0.09718#011validation-error:0.10270\u001b[0m\n",
      "\u001b[34m[23]#011train-error:0.09669#011validation-error:0.10303\u001b[0m\n",
      "\u001b[34m[24]#011train-error:0.09615#011validation-error:0.10246\u001b[0m\n",
      "\u001b[34m[25]#011train-error:0.09566#011validation-error:0.10214\u001b[0m\n",
      "\u001b[34m[26]#011train-error:0.09590#011validation-error:0.10189\u001b[0m\n",
      "\u001b[34m[27]#011train-error:0.09596#011validation-error:0.10189\u001b[0m\n",
      "\u001b[34m[28]#011train-error:0.09602#011validation-error:0.10214\u001b[0m\n",
      "\u001b[34m[29]#011train-error:0.09590#011validation-error:0.10214\u001b[0m\n",
      "\u001b[34m[30]#011train-error:0.09609#011validation-error:0.10214\u001b[0m\n",
      "\u001b[34m[31]#011train-error:0.09566#011validation-error:0.10214\u001b[0m\n",
      "\u001b[34m[32]#011train-error:0.09524#011validation-error:0.10246\u001b[0m\n",
      "\u001b[34m[33]#011train-error:0.09536#011validation-error:0.10254\u001b[0m\n",
      "\u001b[34m[34]#011train-error:0.09542#011validation-error:0.10254\u001b[0m\n",
      "\u001b[34m[35]#011train-error:0.09530#011validation-error:0.10230\u001b[0m\n",
      "\u001b[34m[36]#011train-error:0.09536#011validation-error:0.10230\u001b[0m\n",
      "\u001b[34m[37]#011train-error:0.09536#011validation-error:0.10238\u001b[0m\n",
      "\u001b[34m[38]#011train-error:0.09536#011validation-error:0.10230\u001b[0m\n",
      "\u001b[34m[39]#011train-error:0.09511#011validation-error:0.10262\u001b[0m\n",
      "\u001b[34m[40]#011train-error:0.09481#011validation-error:0.10286\u001b[0m\n",
      "\u001b[34m[41]#011train-error:0.09511#011validation-error:0.10254\u001b[0m\n",
      "\u001b[34m[42]#011train-error:0.09530#011validation-error:0.10246\u001b[0m\n",
      "\u001b[34m[43]#011train-error:0.09511#011validation-error:0.10254\u001b[0m\n",
      "\u001b[34m[44]#011train-error:0.09505#011validation-error:0.10246\u001b[0m\n",
      "\u001b[34m[45]#011train-error:0.09511#011validation-error:0.10222\u001b[0m\n",
      "\u001b[34m[46]#011train-error:0.09499#011validation-error:0.10230\u001b[0m\n",
      "\u001b[34m[47]#011train-error:0.09517#011validation-error:0.10278\u001b[0m\n",
      "\u001b[34m[48]#011train-error:0.09511#011validation-error:0.10295\u001b[0m\n",
      "\u001b[34m[49]#011train-error:0.09511#011validation-error:0.10295\u001b[0m\n",
      "Training seconds: 70\n",
      "Billable seconds: 14\n",
      "Managed Spot Training savings: 80.0%\n",
      "CPU times: user 509 ms, sys: 67.7 ms, total: 577 ms\n",
      "Wall time: 4min 7s\n"
     ]
    }
   ],
   "source": [
    "%%time\n",
    "estimator.fit({'train': s3_input_train,'validation': s3_input_val})#"
   ]
  },
  {
   "cell_type": "markdown",
   "id": "proof-prospect",
   "metadata": {},
   "source": [
    "## Print jobs"
   ]
  },
  {
   "cell_type": "code",
   "execution_count": 70,
   "id": "modern-scheduling",
   "metadata": {},
   "outputs": [
    {
     "data": {
      "text/plain": [
       "['arn:aws:sagemaker:us-east-2:342342686540:training-job/sagemaker-xgboost-2021-03-18-10-29-00-410',\n",
       " 'arn:aws:sagemaker:us-east-2:342342686540:training-job/sagemaker-xgboost-2021-03-18-10-26-05-864',\n",
       " 'arn:aws:sagemaker:us-east-2:342342686540:training-job/sagemaker-xgboost-2021-03-18-09-57-40-076',\n",
       " 'arn:aws:sagemaker:us-east-2:342342686540:training-job/sagemaker-xgboost-2021-03-17-15-09-12-896',\n",
       " 'arn:aws:sagemaker:us-east-2:342342686540:training-job/sagemaker-xgboost-2021-03-17-14-07-09-191',\n",
       " 'arn:aws:sagemaker:us-east-2:342342686540:training-job/sagemaker-xgboost-2021-03-11-16-44-48-956',\n",
       " 'arn:aws:sagemaker:us-east-2:342342686540:training-job/sagemaker-xgboost-2021-03-11-15-46-34-426',\n",
       " 'arn:aws:sagemaker:us-east-2:342342686540:training-job/sagemaker-xgboost-2021-03-11-13-13-25-842',\n",
       " 'arn:aws:sagemaker:us-east-2:342342686540:training-job/sagemaker-xgboost-2021-03-09-20-37-08-345',\n",
       " 'arn:aws:sagemaker:us-east-2:342342686540:training-job/sagemaker-xgboost-2021-03-09-20-30-26-410']"
      ]
     },
     "execution_count": 70,
     "metadata": {},
     "output_type": "execute_result"
    }
   ],
   "source": [
    "#https://us-east-2.console.aws.amazon.com/sagemaker/home?region=us-east-2#/jobs\n",
    "client = boto3.client('sagemaker')\n",
    "jobs = client.list_training_jobs()\n",
    "#!aws sagemaker list-training-jobs\n",
    "#jobs_all = [x['TrainingJobArn'] for x in jobs['TrainingJobSummaries'] ]\n",
    "jobs_comp = [x['TrainingJobArn']  for x in jobs['TrainingJobSummaries'] if x['TrainingJobStatus']=='Completed']\n",
    "jobs_comp"
   ]
  },
  {
   "cell_type": "markdown",
   "id": "measured-embassy",
   "metadata": {},
   "source": [
    "## Deploy model"
   ]
  },
  {
   "cell_type": "code",
   "execution_count": 71,
   "id": "through-debut",
   "metadata": {},
   "outputs": [
    {
     "name": "stdout",
     "output_type": "stream",
     "text": [
      "----------------!CPU times: user 445 ms, sys: 65.7 ms, total: 511 ms\n",
      "Wall time: 9min 41s\n"
     ]
    }
   ],
   "source": [
    "%%time\n",
    "xgb_predictor = estimator.deploy(initial_instance_count=1, \n",
    "                                 instance_type = 'ml.t2.medium', \n",
    "                                 serializer = sagemaker.serializers.CSVSerializer())\n",
    "#https://us-east-2.console.aws.amazon.com/sagemaker/home?region=us-east-2#/endpoints"
   ]
  },
  {
   "cell_type": "code",
   "execution_count": 72,
   "id": "supreme-newcastle",
   "metadata": {},
   "outputs": [
    {
     "data": {
      "text/plain": [
       "[{'EndpointName': 'sagemaker-xgboost-2021-03-18-10-33-13-014',\n",
       "  'EndpointArn': 'arn:aws:sagemaker:us-east-2:342342686540:endpoint/sagemaker-xgboost-2021-03-18-10-33-13-014',\n",
       "  'CreationTime': datetime.datetime(2021, 3, 18, 11, 33, 25, 90000, tzinfo=tzlocal()),\n",
       "  'LastModifiedTime': datetime.datetime(2021, 3, 18, 11, 42, 36, 233000, tzinfo=tzlocal()),\n",
       "  'EndpointStatus': 'InService'},\n",
       " {'EndpointName': 'sagemaker-xgboost-2021-03-18-10-02-29-356',\n",
       "  'EndpointArn': 'arn:aws:sagemaker:us-east-2:342342686540:endpoint/sagemaker-xgboost-2021-03-18-10-02-29-356',\n",
       "  'CreationTime': datetime.datetime(2021, 3, 18, 11, 2, 41, 337000, tzinfo=tzlocal()),\n",
       "  'LastModifiedTime': datetime.datetime(2021, 3, 18, 11, 10, 49, 822000, tzinfo=tzlocal()),\n",
       "  'EndpointStatus': 'InService'}]"
      ]
     },
     "execution_count": 72,
     "metadata": {},
     "output_type": "execute_result"
    }
   ],
   "source": [
    "endpoints = client.list_endpoints(SortBy='Status')['Endpoints']\n",
    "endpoints"
   ]
  },
  {
   "cell_type": "code",
   "execution_count": 73,
   "id": "accepting-needle",
   "metadata": {},
   "outputs": [
    {
     "name": "stdout",
     "output_type": "stream",
     "text": [
      "sagemaker-xgboost-2021-03-18-10-33-13-014\n",
      "sagemaker-xgboost-2021-03-18-10-02-29-356\n"
     ]
    }
   ],
   "source": [
    "#print all your endpoints\n",
    "for i in range( len(endpoints) ):\n",
    "    endpoint_name = endpoints[i]['EndpointName']\n",
    "    print(endpoint_name)"
   ]
  },
  {
   "cell_type": "code",
   "execution_count": 74,
   "id": "downtown-antarctica",
   "metadata": {},
   "outputs": [],
   "source": [
    "endpoint_name = 'sagemaker-xgboost-2021-03-18-10-33-13-014'"
   ]
  },
  {
   "cell_type": "markdown",
   "id": "talented-monitor",
   "metadata": {},
   "source": [
    "## Test endpoint "
   ]
  },
  {
   "cell_type": "code",
   "execution_count": 75,
   "id": "brilliant-airline",
   "metadata": {},
   "outputs": [],
   "source": [
    "runtime_client = boto3.client('sagemaker-runtime')"
   ]
  },
  {
   "cell_type": "code",
   "execution_count": 80,
   "id": "periodic-situation",
   "metadata": {},
   "outputs": [],
   "source": [
    "test_data = pd.read_csv('test_data.csv')\n",
    "payload = test_data.copy()\n",
    "payload = payload.drop(payload.columns[0], axis=1).values\n",
    "with open('payload_data.csv', 'r') as f:\n",
    "    payload = f.read().strip()"
   ]
  },
  {
   "cell_type": "markdown",
   "id": "suited-adams",
   "metadata": {},
   "source": [
    "__invoque endpoint__"
   ]
  },
  {
   "cell_type": "code",
   "execution_count": 104,
   "id": "manufactured-newsletter",
   "metadata": {},
   "outputs": [],
   "source": [
    "   \n",
    "response = runtime_client.invoke_endpoint(EndpointName=endpoint_name, \n",
    "                                   ContentType='text/csv', \n",
    "                                   Body= payload )\n",
    "result = response['Body'].read()"
   ]
  },
  {
   "cell_type": "code",
   "execution_count": 107,
   "id": "hearing-fiction",
   "metadata": {},
   "outputs": [
    {
     "data": {
      "text/plain": [
       "array([0.02122305, 0.04085948, 0.31341541, ..., 0.03422592, 0.03033714,\n",
       "       0.03065895])"
      ]
     },
     "execution_count": 107,
     "metadata": {},
     "output_type": "execute_result"
    }
   ],
   "source": [
    "\n",
    "predictions_array = np.fromstring(result, sep=',') # and turn the prediction into an array\n",
    "\n",
    "predictions_array"
   ]
  },
  {
   "cell_type": "code",
   "execution_count": 108,
   "id": "moved-lebanon",
   "metadata": {},
   "outputs": [
    {
     "name": "stdout",
     "output_type": "stream",
     "text": [
      "Predicted    0.0  1.0\n",
      "Observed             \n",
      "0          10783  152\n",
      "1           1135  286\n",
      "\n",
      "Overall Classification Rate: 89.6%\n",
      "\n",
      "Predicted      No Purchase    Purchase\n",
      "Observed\n",
      "No Purchase    90% (10783)    35% (152)\n",
      "Purchase        10% (1135)     65% (286) \n",
      "\n"
     ]
    }
   ],
   "source": [
    "cm = pd.crosstab(index=test_data[test_data.columns[0]], \n",
    "                 columns=np.round(predictions_array), \n",
    "                 rownames=['Observed'], \n",
    "                 colnames=['Predicted'])\n",
    "print(cm)\n",
    "tn = cm.iloc[0,0]; fn = cm.iloc[1,0]; tp = cm.iloc[1,1]; fp = cm.iloc[0,1]; p = (tp+tn)/(tp+tn+fp+fn)*100\n",
    "print(\"\\n{0:<20}{1:<4.1f}%\\n\".format(\"Overall Classification Rate: \", p))\n",
    "print(\"{0:<15}{1:<15}{2:>8}\".format(\"Predicted\", \"No Purchase\", \"Purchase\"))\n",
    "print(\"Observed\")\n",
    "print(\"{0:<15}{1:<2.0f}% ({2:<}){3:>6.0f}% ({4:<})\".format(\"No Purchase\", tn/(tn+fn)*100,tn, fp/(tp+fp)*100, fp))\n",
    "print(\"{0:<16}{1:<1.0f}% ({2:<}){3:>7.0f}% ({4:<}) \\n\".format(\"Purchase\", fn/(tn+fn)*100,fn, tp/(tp+fp)*100, tp))"
   ]
  },
  {
   "cell_type": "markdown",
   "id": "equal-graphic",
   "metadata": {},
   "source": [
    "## Delete Endpoint"
   ]
  },
  {
   "cell_type": "code",
   "execution_count": 117,
   "id": "other-canada",
   "metadata": {},
   "outputs": [
    {
     "name": "stdout",
     "output_type": "stream",
     "text": [
      "2\n",
      "sagemaker-xgboost-2021-03-18-10-02-29-356\n"
     ]
    }
   ],
   "source": [
    "#if you want to delete a list of endpoints keeping the last \"keep_ast\" ones.\n",
    "print(len(endpoints))\n",
    "keep_last = 1\n",
    "endpoints = client.list_endpoints(SortBy='Status')['Endpoints']\n",
    "for i in range(keep_last, len(endpoints) ):# exclude last training and delete\n",
    "    name = endpoints[i]['EndpointName']\n",
    "    print(name)\n",
    "    sagemaker.Session().delete_endpoint(name)"
   ]
  },
  {
   "cell_type": "raw",
   "id": "changed-vertical",
   "metadata": {},
   "source": [
    "#https://us-east-2.console.aws.amazon.com/sagemaker/home?region=us-east-2#/endpointConfig\n"
   ]
  },
  {
   "cell_type": "code",
   "execution_count": 118,
   "id": "built-width",
   "metadata": {},
   "outputs": [
    {
     "data": {
      "text/plain": [
       "[{'EndpointName': 'sagemaker-xgboost-2021-03-18-10-33-13-014',\n",
       "  'EndpointArn': 'arn:aws:sagemaker:us-east-2:342342686540:endpoint/sagemaker-xgboost-2021-03-18-10-33-13-014',\n",
       "  'CreationTime': datetime.datetime(2021, 3, 18, 11, 33, 25, 90000, tzinfo=tzlocal()),\n",
       "  'LastModifiedTime': datetime.datetime(2021, 3, 18, 11, 42, 36, 233000, tzinfo=tzlocal()),\n",
       "  'EndpointStatus': 'InService'}]"
      ]
     },
     "execution_count": 118,
     "metadata": {},
     "output_type": "execute_result"
    }
   ],
   "source": [
    "endpoints = client.list_endpoints(SortBy='Status')['Endpoints']\n",
    "endpoints"
   ]
  },
  {
   "cell_type": "markdown",
   "id": "pharmaceutical-rolling",
   "metadata": {},
   "source": [
    "## Delete S3 objects"
   ]
  },
  {
   "cell_type": "code",
   "execution_count": null,
   "id": "official-hotel",
   "metadata": {},
   "outputs": [],
   "source": [
    "bucket_to_delete = boto3.resource('s3').Bucket(bucket_name)\n",
    "print(bucket_to_delete.objects.all())\n",
    "#bucket_to_delete.objects.all().delete()"
   ]
  }
 ],
 "metadata": {
  "kernelspec": {
   "display_name": "Python 3",
   "language": "python",
   "name": "python3"
  },
  "language_info": {
   "codemirror_mode": {
    "name": "ipython",
    "version": 3
   },
   "file_extension": ".py",
   "mimetype": "text/x-python",
   "name": "python",
   "nbconvert_exporter": "python",
   "pygments_lexer": "ipython3",
   "version": "3.9.1"
  }
 },
 "nbformat": 4,
 "nbformat_minor": 5
}
